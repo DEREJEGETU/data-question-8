{
 "cells": [
  {
   "cell_type": "code",
   "execution_count": 5,
   "metadata": {},
   "outputs": [],
   "source": [
    "# import packages\n",
    "\n",
    "import pandas as pd\n",
    "from nltk import sent_tokenize\n",
    "from sklearn.feature_extraction.text import TfidfVectorizer\n",
    "from sklearn.feature_selection import chi2, SelectKBest\n",
    "from sklearn.model_selection import train_test_split\n",
    "from sklearn.linear_model import LogisticRegressionCV\n",
    "from sklearn.model_selection import train_test_split\n",
    "from sklearn.metrics import confusion_matrix"
   ]
  },
  {
   "cell_type": "markdown",
   "metadata": {},
   "source": [
    "# Clean the data"
   ]
  },
  {
   "cell_type": "code",
   "execution_count": 2,
   "metadata": {},
   "outputs": [],
   "source": [
    "# read in training data\n",
    "\n",
    "train = pd.read_csv(\"data/share_repurchase_paragraphs.csv\")"
   ]
  },
  {
   "cell_type": "code",
   "execution_count": 6,
   "metadata": {},
   "outputs": [],
   "source": [
    "def relevant_sentence_from_text(df):\n",
    "    \"\"\"Use previously identified information pulled from paragraph text to identify \n",
    "    relevant sentences for each entry in training dataset\"\"\"\n",
    "    \n",
    "    # identify and isolate relevant and irrelevant sentences from paragraph text\n",
    "    relevant_sentence = list()\n",
    "    irrelevant_sentences = list()\n",
    "    \n",
    "    # iterate over each row in df\n",
    "    for ind, para in enumerate(df.paragraph_text):\n",
    "        \n",
    "        # assign components to search for to variables\n",
    "        row_text = df.text[ind] # pull entire value from text column\n",
    "        \n",
    "        # reported data value is variable. \n",
    "        # value in column is always float but in text can be int, float or absent (mainly for date)\n",
    "        int_rdv = int(df.reported_data_value[ind])\n",
    "        if (df.reported_data_value[ind] == int_rdv) & (len(str(int_rdv)) <= 3): # if text value is int\n",
    "            row_data_val = str(int_rdv)\n",
    "        elif (df.reported_data_value[ind] != int_rdv) & (len(str(int_rdv)) <= 3): # if text value is float\n",
    "            row_data_val = str(df.reported_data_value[ind])[:-1]\n",
    "        else: # if reported data value is spurrious\n",
    "            row_data_val = \"\"\n",
    "        \n",
    "        # get and clean reported units value\n",
    "        if df.reported_units[ind] != \"ones\": \n",
    "            row_unit = df.reported_units[ind][:-1] # values are plural in column but singular in text so remove \"s\"\n",
    "        else: # ones doesn't exist so ignore that value\n",
    "            row_unit = \"\"\n",
    "        \n",
    "        # tokenize each sentence in paragraph\n",
    "        para_sent_tokens = sent_tokenize(para)\n",
    "        \n",
    "        rel_sents = list()\n",
    "        irrel_sents = list()\n",
    "        \n",
    "        # separate sentences into relevant and irrelevant for each row\n",
    "        for sent in para_sent_tokens:\n",
    "            \n",
    "            # all the components are present in sentence, it is the relevant sentence\n",
    "            if (row_text in sent) & ((\"$\"+row_data_val in sent)|(\" \"+row_data_val+\" \" in sent)) & (row_unit in sent):\n",
    "                rel_sents.append(sent)\n",
    "            \n",
    "            # if not all present then it is irrelevant.\n",
    "            #This may miss some info but consequence is getting too many duplicates\n",
    "            else:\n",
    "                irrel_sents.append(sent)\n",
    "\n",
    "        relevant_sentence.append(rel_sents)\n",
    "        irrelevant_sentences.append(irrel_sents) # irrelevant sentences will be list of lists\n",
    "    \n",
    "    df[\"irrelevant_sentences\"] = irrelevant_sentences # add irrelevant sentences\n",
    "    \n",
    "    # create new df so that each relevant sentence gets its own row, incase there are duplicates.\n",
    "    # likely will not be an issue but just in case\n",
    "    new_df = list()\n",
    "    sents = list()\n",
    "    for ind, sent_list in enumerate(relevant_sentence):\n",
    "        for sent in sent_list:\n",
    "            new_df.append(df.iloc[ind])\n",
    "            sents.append(sent)\n",
    "    \n",
    "    df_sents = pd.DataFrame(new_df)\n",
    "    df_sents[\"relevant_sentence\"] = sents\n",
    "    \n",
    "    return(df_sents)"
   ]
  },
  {
   "cell_type": "code",
   "execution_count": 7,
   "metadata": {},
   "outputs": [],
   "source": [
    "# run function on training data\n",
    "train_split = relevant_sentence_from_text(train)"
   ]
  },
  {
   "cell_type": "code",
   "execution_count": 8,
   "metadata": {},
   "outputs": [],
   "source": [
    "# Splic training data into a dataframe for each data_key_friendly_name\n",
    "categories = train_split.data_key_friendly_name.unique()\n",
    "\n",
    "sub_df_list = list(range(len(categories)))\n",
    "for ind, category in enumerate(categories):\n",
    "    sub_df_list[ind] = train_split[train_split[\"data_key_friendly_name\"] == category]\n",
    "    \n",
    "[date, auth, intent, count, amount, util, unk] = sub_df_list"
   ]
  },
  {
   "cell_type": "code",
   "execution_count": 9,
   "metadata": {},
   "outputs": [],
   "source": [
    "# reset the indexes, may not be necessary but just in case\n",
    "for df in [date, auth, intent, count, amount, util, unk]:\n",
    "    df.reset_index(drop = True, inplace = True)"
   ]
  },
  {
   "cell_type": "markdown",
   "metadata": {},
   "source": [
    "# Logistic Regression"
   ]
  },
  {
   "cell_type": "code",
   "execution_count": 10,
   "metadata": {},
   "outputs": [],
   "source": [
    "def category_df_for_lr(df):\n",
    "    \"\"\"Take in relevant and irrelevant sentences and create new dataframe to be used in logistic regression.\n",
    "    Return dataframe\"\"\"\n",
    "    relevant_sentences = df.relevant_sentence.tolist()\n",
    "    \n",
    "    irrelevant_sentences = list()\n",
    "    for l in df.irrelevant_sentences:\n",
    "        for s in l:\n",
    "            irrelevant_sentences.append(s)\n",
    "    \n",
    "    relevant_df = pd.DataFrame(relevant_sentences, columns = [\"sentences\"])\n",
    "    \n",
    "    irrelevant_df = pd.DataFrame(irrelevant_sentences, columns = [\"sentences\"])\n",
    "    \n",
    "    # new column assigning if sentence is about category or not. 1 = yes, 0 = no\n",
    "    \n",
    "    relevant_df[\"in_category\"] = 1\n",
    "    \n",
    "    irrelevant_df[\"in_category\"] = 0\n",
    "    \n",
    "    df_lr = pd.concat([relevant_df, irrelevant_df])\n",
    "    \n",
    "    return(df_lr)"
   ]
  },
  {
   "cell_type": "code",
   "execution_count": 14,
   "metadata": {},
   "outputs": [],
   "source": [
    "def train_lr_model(df, ngram_range = (1, 4), cm = True):\n",
    "    \"\"\"Prepare text with TfidfVectorizer, \n",
    "    Select top features based on chi2, \n",
    "    and fit model using LogisticRegressionCV.\n",
    "    Return score and predictions\"\"\"\n",
    "    \n",
    "    # initialize TfidfVectorizer, specifying certain hyperparameters\n",
    "    tfidf = TfidfVectorizer(sublinear_tf = True, # use log to scale tf\n",
    "                           norm = \"l2\", # norm method\n",
    "                           ngram_range = ngram_range, # n-gram range to test (default is unigram to fourgram)\n",
    "                           stop_words = \"english\") # language to use when removing stopwords\n",
    "    \n",
    "    # select input variables from dataframe \n",
    "    X = df.sentences \n",
    "    y = df.in_category\n",
    "    \n",
    "    # fit and transform text column\n",
    "    X_tfidf = tfidf.fit_transform(X)\n",
    "    \n",
    "    # split data into training and test sets\n",
    "    X_train, X_test, y_train, y_test = train_test_split(X_tfidf, y, test_size=0.33, random_state=42)\n",
    "\n",
    "    # select features to use for model\n",
    "    ch2 = SelectKBest(chi2, k=100) # select top 100 features based on chi2\n",
    "    \n",
    "    # fit and transform training and test data using previously selected features\n",
    "    X_train_chi2_selected = ch2.fit_transform(X_train, y_train)\n",
    "    X_test_chi2_selected = ch2.transform(X_test)\n",
    "    \n",
    "    # initialize logistic regression\n",
    "    lr = LogisticRegressionCV(cv = 5, penalty = \"l2\")\n",
    "    \n",
    "    # fit lr model to training data\n",
    "    lr_model = lr.fit(X_train_chi2_selected, y_train)\n",
    "    \n",
    "    # use model to predict values for test data\n",
    "    y_pred = lr_model.predict(X_test_chi2_selected)\n",
    "    \n",
    "    # score the model\n",
    "    score = lr.score(X_test_chi2_selected, y_test)\n",
    "    \n",
    "    print(\"Score: \", score, \"\\n\")\n",
    "    \n",
    "    if cm == True:\n",
    "        # Count values for confusion matrix\n",
    "        tn, fp, fn, tp = confusion_matrix(y_test.tolist(), y_pred).ravel()\n",
    "        \n",
    "        data = {'no': [tn, fp], 'yes': [fn, tp]}\n",
    "        cm = pd.DataFrame.from_dict(data, orient='index',\n",
    "                                    columns=[\"no\", \"yes\"])\n",
    "        print(cm)\n",
    "    \n",
    "    #return(y_pred)"
   ]
  },
  {
   "cell_type": "code",
   "execution_count": 16,
   "metadata": {},
   "outputs": [
    {
     "name": "stdout",
     "output_type": "stream",
     "text": [
      "Score:  0.8215158924205379 \n",
      "\n",
      "      no  yes\n",
      "no   267   16\n",
      "yes   57   69\n"
     ]
    }
   ],
   "source": [
    "# test functions on one df\n",
    "\n",
    "date_lr = category_df_for_lr(date)\n",
    "\n",
    "train_lr_model(date_lr)"
   ]
  },
  {
   "cell_type": "code",
   "execution_count": 18,
   "metadata": {},
   "outputs": [
    {
     "name": "stdout",
     "output_type": "stream",
     "text": [
      "date \n",
      "\n",
      "Score:  0.8215158924205379 \n",
      "\n",
      "      no  yes\n",
      "no   267   16\n",
      "yes   57   69\n",
      "\n",
      " \n",
      "\n",
      "auth \n",
      "\n",
      "Score:  0.7909090909090909 \n",
      "\n",
      "      no  yes\n",
      "no   142    7\n",
      "yes   39   32\n",
      "\n",
      " \n",
      "\n",
      "intent \n",
      "\n",
      "Score:  0.825 \n",
      "\n",
      "     no  yes\n",
      "no   48    7\n",
      "yes   7   18\n",
      "\n",
      " \n",
      "\n",
      "count \n",
      "\n",
      "Score:  0.8713692946058091 \n",
      "\n",
      "      no  yes\n",
      "no   142   13\n",
      "yes   18   68\n",
      "\n",
      " \n",
      "\n",
      "amount \n",
      "\n"
     ]
    },
    {
     "name": "stderr",
     "output_type": "stream",
     "text": [
      "/Users/maheshrao/anaconda3/envs/New_Constructs/lib/python3.6/site-packages/sklearn/feature_selection/univariate_selection.py:166: RuntimeWarning: divide by zero encountered in true_divide\n",
      "  chisq /= f_exp\n"
     ]
    },
    {
     "name": "stdout",
     "output_type": "stream",
     "text": [
      "Score:  0.7777777777777778 \n",
      "\n",
      "     no  yes\n",
      "no   20    5\n",
      "yes   7   22\n",
      "\n",
      " \n",
      "\n",
      "util \n",
      "\n",
      "Score:  0.7837837837837838 \n",
      "\n",
      "     no  yes\n",
      "no   25    0\n",
      "yes   8    4\n",
      "\n",
      " \n",
      "\n",
      "unk \n",
      "\n",
      "Score:  0.6153846153846154 \n",
      "\n",
      "     no  yes\n",
      "no   15    2\n",
      "yes   8    1\n",
      "\n",
      " \n",
      "\n"
     ]
    }
   ],
   "source": [
    "# do for all\n",
    "\n",
    "df_names = [\"date\", \"auth\", \"intent\", \"count\", \"amount\", \"util\", \"unk\"]\n",
    "\n",
    "for name, df in zip(df_names, sub_df_list):\n",
    "    df_lr = category_df_for_lr(df)\n",
    "    print(name, \"\\n\")\n",
    "    train_lr_model(df_lr)\n",
    "    print(\"\\n\", \"\\n\")"
   ]
  },
  {
   "cell_type": "code",
   "execution_count": null,
   "metadata": {},
   "outputs": [],
   "source": []
  }
 ],
 "metadata": {
  "kernelspec": {
   "display_name": "Python 3",
   "language": "python",
   "name": "python3"
  },
  "language_info": {
   "codemirror_mode": {
    "name": "ipython",
    "version": 3
   },
   "file_extension": ".py",
   "mimetype": "text/x-python",
   "name": "python",
   "nbconvert_exporter": "python",
   "pygments_lexer": "ipython3",
   "version": "3.6.5"
  }
 },
 "nbformat": 4,
 "nbformat_minor": 2
}
