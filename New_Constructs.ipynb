{
 "cells": [
  {
   "cell_type": "code",
   "execution_count": 20,
   "metadata": {},
   "outputs": [],
   "source": [
    "# Load libraries\n",
    "import pandas as pd\n",
    "import numpy as np\n",
    "import matplotlib.pyplot as plt\n",
    "import seaborn as sns\n",
    "from nltk import word_tokenize, sent_tokenize\n",
    "import os"
   ]
  },
  {
   "cell_type": "code",
   "execution_count": 3,
   "metadata": {},
   "outputs": [],
   "source": [
    "paragraphs = pd.read_csv(\"data/share_repurchase_paragraphs.csv\")"
   ]
  },
  {
   "cell_type": "code",
   "execution_count": 4,
   "metadata": {},
   "outputs": [
    {
     "data": {
      "text/html": [
       "<div>\n",
       "<style scoped>\n",
       "    .dataframe tbody tr th:only-of-type {\n",
       "        vertical-align: middle;\n",
       "    }\n",
       "\n",
       "    .dataframe tbody tr th {\n",
       "        vertical-align: top;\n",
       "    }\n",
       "\n",
       "    .dataframe thead th {\n",
       "        text-align: right;\n",
       "    }\n",
       "</style>\n",
       "<table border=\"1\" class=\"dataframe\">\n",
       "  <thead>\n",
       "    <tr style=\"text-align: right;\">\n",
       "      <th></th>\n",
       "      <th>ticker</th>\n",
       "      <th>accession_number</th>\n",
       "      <th>data_key_friendly_name</th>\n",
       "      <th>text</th>\n",
       "      <th>data_value</th>\n",
       "      <th>reported_data_value</th>\n",
       "      <th>reported_units</th>\n",
       "      <th>paragraph_text</th>\n",
       "    </tr>\n",
       "  </thead>\n",
       "  <tbody>\n",
       "    <tr>\n",
       "      <th>0</th>\n",
       "      <td>A</td>\n",
       "      <td>0001090872-17-000018</td>\n",
       "      <td>Share Repurchase Authorization Date</td>\n",
       "      <td>May 28, 2015</td>\n",
       "      <td>20150528</td>\n",
       "      <td>20200000.00</td>\n",
       "      <td>ones</td>\n",
       "      <td>On May 28, 2015 we  announced that our board  ...</td>\n",
       "    </tr>\n",
       "    <tr>\n",
       "      <th>1</th>\n",
       "      <td>A</td>\n",
       "      <td>0001090872-17-000018</td>\n",
       "      <td>Share Repurchase Authorization</td>\n",
       "      <td>The 2015 share repurchase program authorizes t...</td>\n",
       "      <td>1140000000</td>\n",
       "      <td>1.14</td>\n",
       "      <td>billions</td>\n",
       "      <td>On May 28, 2015 we  announced that our board  ...</td>\n",
       "    </tr>\n",
       "    <tr>\n",
       "      <th>2</th>\n",
       "      <td>A</td>\n",
       "      <td>0001090872-17-000018</td>\n",
       "      <td>Share Repurchase Intention</td>\n",
       "      <td>remaining authorization to repurchase up to</td>\n",
       "      <td>610000000</td>\n",
       "      <td>610.00</td>\n",
       "      <td>millions</td>\n",
       "      <td>Table of Contents   2016, upon the completion ...</td>\n",
       "    </tr>\n",
       "    <tr>\n",
       "      <th>3</th>\n",
       "      <td>A</td>\n",
       "      <td>0001090872-17-000018</td>\n",
       "      <td>Share Repurchase Count</td>\n",
       "      <td>repurchased</td>\n",
       "      <td>4100000</td>\n",
       "      <td>4.10</td>\n",
       "      <td>millions</td>\n",
       "      <td>Table of Contents   2016, upon the completion ...</td>\n",
       "    </tr>\n",
       "    <tr>\n",
       "      <th>4</th>\n",
       "      <td>A</td>\n",
       "      <td>0001090872-17-000018</td>\n",
       "      <td>Amount Spent on Share Repurchases</td>\n",
       "      <td>repurchased</td>\n",
       "      <td>194000000</td>\n",
       "      <td>194.00</td>\n",
       "      <td>millions</td>\n",
       "      <td>Table of Contents   2016, upon the completion ...</td>\n",
       "    </tr>\n",
       "  </tbody>\n",
       "</table>\n",
       "</div>"
      ],
      "text/plain": [
       "  ticker      accession_number               data_key_friendly_name  \\\n",
       "0      A  0001090872-17-000018  Share Repurchase Authorization Date   \n",
       "1      A  0001090872-17-000018       Share Repurchase Authorization   \n",
       "2      A  0001090872-17-000018           Share Repurchase Intention   \n",
       "3      A  0001090872-17-000018               Share Repurchase Count   \n",
       "4      A  0001090872-17-000018    Amount Spent on Share Repurchases   \n",
       "\n",
       "                                                text  data_value  \\\n",
       "0                                       May 28, 2015    20150528   \n",
       "1  The 2015 share repurchase program authorizes t...  1140000000   \n",
       "2        remaining authorization to repurchase up to   610000000   \n",
       "3                                        repurchased     4100000   \n",
       "4                                        repurchased   194000000   \n",
       "\n",
       "   reported_data_value reported_units  \\\n",
       "0          20200000.00           ones   \n",
       "1                 1.14       billions   \n",
       "2               610.00       millions   \n",
       "3                 4.10       millions   \n",
       "4               194.00       millions   \n",
       "\n",
       "                                      paragraph_text  \n",
       "0  On May 28, 2015 we  announced that our board  ...  \n",
       "1  On May 28, 2015 we  announced that our board  ...  \n",
       "2  Table of Contents   2016, upon the completion ...  \n",
       "3  Table of Contents   2016, upon the completion ...  \n",
       "4  Table of Contents   2016, upon the completion ...  "
      ]
     },
     "execution_count": 4,
     "metadata": {},
     "output_type": "execute_result"
    }
   ],
   "source": [
    "paragraphs.head()"
   ]
  },
  {
   "cell_type": "code",
   "execution_count": 6,
   "metadata": {},
   "outputs": [
    {
     "data": {
      "text/plain": [
       "'On May 28, 2015 we  announced that our board  of directors had approved a  new share repurchase program  (the   \"2015 repurchase program\"). The 2015 share repurchase program authorizes the purchase of up to $1.14  billion   of our common stock at the company\\'s discretion  through and including November 1, 2018. The 2015  repurchase   program does  not require  the company  to  acquire a  specific number  of  shares and  may be  suspended  or   discontinued at any time. During the year ended October 31,                                                        95'"
      ]
     },
     "execution_count": 6,
     "metadata": {},
     "output_type": "execute_result"
    }
   ],
   "source": [
    "paragraphs.paragraph_text[0]"
   ]
  },
  {
   "cell_type": "code",
   "execution_count": 14,
   "metadata": {},
   "outputs": [],
   "source": [
    "test_p = paragraphs.paragraph_text[2]"
   ]
  },
  {
   "cell_type": "code",
   "execution_count": 19,
   "metadata": {},
   "outputs": [
    {
     "data": {
      "text/plain": [
       "'Table of Contents   2016, upon the completion of our previous repurchase program, we repurchased approximately 8.3 million shares   for $336  million  under  this  authorization.  During  the  year  ended  October  31,  2017  we  repurchased   approximately 4.1 million shares for $194  million under this authorization. As  of October 31, 2017, we  had   remaining authorization to repurchase up to $610 million of our common stock under this program'"
      ]
     },
     "execution_count": 19,
     "metadata": {},
     "output_type": "execute_result"
    }
   ],
   "source": [
    "test_p"
   ]
  },
  {
   "cell_type": "code",
   "execution_count": 9,
   "metadata": {},
   "outputs": [
    {
     "data": {
      "text/plain": [
       "'The 2015 share repurchase program authorizes the purchase of up to'"
      ]
     },
     "execution_count": 9,
     "metadata": {},
     "output_type": "execute_result"
    }
   ],
   "source": [
    "paragraphs.text[1]"
   ]
  },
  {
   "cell_type": "markdown",
   "metadata": {},
   "source": [
    "for root, dirs, files in os.walk(\"data/nc_training_filings\", topdown=True):\n",
    "    for file in files:\n",
    "        print(file)\n",
    "        # df = pd.read_csv(os.path.join(root, file), encoding = \"ISO-8859-1\", low_memory = False)\n",
    "        # nih_full = nih_full.append(df)"
   ]
  },
  {
   "cell_type": "code",
   "execution_count": 21,
   "metadata": {},
   "outputs": [],
   "source": [
    "test_p_sent = sent_tokenize(test_p)"
   ]
  },
  {
   "cell_type": "code",
   "execution_count": 22,
   "metadata": {},
   "outputs": [
    {
     "data": {
      "text/plain": [
       "['Table of Contents   2016, upon the completion of our previous repurchase program, we repurchased approximately 8.3 million shares   for $336  million  under  this  authorization.',\n",
       " 'During  the  year  ended  October  31,  2017  we  repurchased   approximately 4.1 million shares for $194  million under this authorization.',\n",
       " 'As  of October 31, 2017, we  had   remaining authorization to repurchase up to $610 million of our common stock under this program']"
      ]
     },
     "execution_count": 22,
     "metadata": {},
     "output_type": "execute_result"
    }
   ],
   "source": [
    "test_p_sent"
   ]
  },
  {
   "cell_type": "code",
   "execution_count": 26,
   "metadata": {},
   "outputs": [],
   "source": [
    "test_p_sent_bow = list()\n",
    "for sent in test_p_sent:\n",
    "    test_p_sent_bow.append(word_tokenize(sent))"
   ]
  },
  {
   "cell_type": "code",
   "execution_count": 27,
   "metadata": {},
   "outputs": [
    {
     "data": {
      "text/plain": [
       "[['Table',\n",
       "  'of',\n",
       "  'Contents',\n",
       "  '2016',\n",
       "  ',',\n",
       "  'upon',\n",
       "  'the',\n",
       "  'completion',\n",
       "  'of',\n",
       "  'our',\n",
       "  'previous',\n",
       "  'repurchase',\n",
       "  'program',\n",
       "  ',',\n",
       "  'we',\n",
       "  'repurchased',\n",
       "  'approximately',\n",
       "  '8.3',\n",
       "  'million',\n",
       "  'shares',\n",
       "  'for',\n",
       "  '$',\n",
       "  '336',\n",
       "  'million',\n",
       "  'under',\n",
       "  'this',\n",
       "  'authorization',\n",
       "  '.'],\n",
       " ['During',\n",
       "  'the',\n",
       "  'year',\n",
       "  'ended',\n",
       "  'October',\n",
       "  '31',\n",
       "  ',',\n",
       "  '2017',\n",
       "  'we',\n",
       "  'repurchased',\n",
       "  'approximately',\n",
       "  '4.1',\n",
       "  'million',\n",
       "  'shares',\n",
       "  'for',\n",
       "  '$',\n",
       "  '194',\n",
       "  'million',\n",
       "  'under',\n",
       "  'this',\n",
       "  'authorization',\n",
       "  '.'],\n",
       " ['As',\n",
       "  'of',\n",
       "  'October',\n",
       "  '31',\n",
       "  ',',\n",
       "  '2017',\n",
       "  ',',\n",
       "  'we',\n",
       "  'had',\n",
       "  'remaining',\n",
       "  'authorization',\n",
       "  'to',\n",
       "  'repurchase',\n",
       "  'up',\n",
       "  'to',\n",
       "  '$',\n",
       "  '610',\n",
       "  'million',\n",
       "  'of',\n",
       "  'our',\n",
       "  'common',\n",
       "  'stock',\n",
       "  'under',\n",
       "  'this',\n",
       "  'program']]"
      ]
     },
     "execution_count": 27,
     "metadata": {},
     "output_type": "execute_result"
    }
   ],
   "source": [
    "test_p_sent_bow"
   ]
  },
  {
   "cell_type": "code",
   "execution_count": 48,
   "metadata": {},
   "outputs": [],
   "source": [
    "possible_important_words = [\"remaining\"]"
   ]
  },
  {
   "cell_type": "code",
   "execution_count": 57,
   "metadata": {},
   "outputs": [],
   "source": [
    "months = [\"January\", \"Febuary\", \"March\", \"April\", \"May\", \"June\", \"July\", \"August\", \"September\", \"October\", \"November\", \"December\"]"
   ]
  },
  {
   "cell_type": "code",
   "execution_count": 66,
   "metadata": {},
   "outputs": [],
   "source": [
    "units = [\"hundred\", \"thousand\", \"million\", \"billion\", \"trillion\"]"
   ]
  },
  {
   "cell_type": "code",
   "execution_count": 67,
   "metadata": {},
   "outputs": [],
   "source": [
    "# This is how to check to see if word in list is in another list\n",
    "# any(word in test_p_sent_bow[2] for word in possible_important_words)"
   ]
  },
  {
   "cell_type": "code",
   "execution_count": 68,
   "metadata": {},
   "outputs": [
    {
     "name": "stdout",
     "output_type": "stream",
     "text": [
      "{'remaining'}\n",
      "month:  October\n",
      "amount:  610\n",
      "units:  million\n"
     ]
    }
   ],
   "source": [
    "for sent in test_p_sent_bow:\n",
    "    if any(word in sent for word in possible_important_words):\n",
    "        print(set(possible_important_words) & set(sent))\n",
    "        for ind, token in enumerate(sent):\n",
    "            if token in months:\n",
    "                print(\"month: \", sent[ind])\n",
    "            elif token == \"$\":\n",
    "                print(\"amount: \", sent[ind+1])#, sent[ind+2])\n",
    "            elif token in units:\n",
    "                print(\"units: \", sent[ind])"
   ]
  },
  {
   "cell_type": "code",
   "execution_count": null,
   "metadata": {},
   "outputs": [],
   "source": []
  }
 ],
 "metadata": {
  "kernelspec": {
   "display_name": "Python 3",
   "language": "python",
   "name": "python3"
  },
  "language_info": {
   "codemirror_mode": {
    "name": "ipython",
    "version": 3
   },
   "file_extension": ".py",
   "mimetype": "text/x-python",
   "name": "python",
   "nbconvert_exporter": "python",
   "pygments_lexer": "ipython3",
   "version": "3.6.5"
  }
 },
 "nbformat": 4,
 "nbformat_minor": 2
}
