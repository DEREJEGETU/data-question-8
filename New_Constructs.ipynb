{
 "cells": [
  {
   "cell_type": "code",
   "execution_count": 1,
   "metadata": {},
   "outputs": [],
   "source": [
    "import pandas as pd\n",
    "import numpy as np\n",
    "import matplotlib.pyplot as plt\n",
    "%matplotlib inline\n",
    "from scipy.stats import stats\n",
    "import seaborn as sns\n",
    "import warnings\n",
    "warnings.filterwarnings('ignore')\n",
    "import re\n",
    "from bs4 import BeautifulSoup as BS\n",
    "import urllib.request\n",
    "import os\n",
    "from os.path import join, getsize\n",
    "import nltk\n",
    "from nltk import word_tokenize, sent_tokenize, tokenize\n",
    "import estnltk\n",
    "\n",
    "p = pd.read_csv('../data/share_repurchase_paragraphs.csv')\n",
    "f = pd.read_csv('../data/nc_validation_filings.csv')"
   ]
  },
  {
   "cell_type": "markdown",
   "metadata": {},
   "source": [
    "# _Identify share repurchase activity in 10-K/10-Q docs_\n",
    "\n",
    "> ##### For clarity, there won’t necessarily be separate paragraphs for each of those 7 data points we’ve identified (e.g., Share Repurchase Authorization Date, Share Repurchase Authorization, Share Repurchase Intention, etc.) - you could find each of those 7 data points all in a single paragraph depending on the disclosure in the filing. So if it made sense to, you could look at the problem in two stages - first, identifying those paragraphs generally that are about share repurchases, and second, classifying the data inside the paragraph into those 7 categories.\n",
    "\n",
    "> ##### For the deliverable, please prepare a csv file with the data points that are included in share_repurchase_paragraphs.csv\n",
    "\n",
    "> ##### For errors, we’d prefer to err on the side of a false positive. I think those will also make for easier feedback than negative cases.\n",
    "\n",
    "> ##### Other Relevant Files\n",
    "> #####  1.  nc_training_filings.zip, which contains the HTML filings for each of the items in the training set CSV we sent over (which I believe is a set of 500). That CSV includes accession_number, and all the HTML filings in that archive are named <accession_number>.html .\n",
    "> #####  2.  nc_validation_filings.zip, which contains the HTML filings for an extra 100 filings that aren’t in the training set. These are in case your students want to be able to try their models out on some unmarked data - we’ll provide feedback on those if they do.\n",
    "> #####  3.  nc_validation_filings.csv, which contains the ticker and accession number for the filings in #2."
   ]
  },
  {
   "cell_type": "code",
   "execution_count": 2,
   "metadata": {},
   "outputs": [
    {
     "data": {
      "text/html": [
       "<div>\n",
       "<style>\n",
       "    .dataframe thead tr:only-child th {\n",
       "        text-align: right;\n",
       "    }\n",
       "\n",
       "    .dataframe thead th {\n",
       "        text-align: left;\n",
       "    }\n",
       "\n",
       "    .dataframe tbody tr th {\n",
       "        vertical-align: top;\n",
       "    }\n",
       "</style>\n",
       "<table border=\"1\" class=\"dataframe\">\n",
       "  <thead>\n",
       "    <tr style=\"text-align: right;\">\n",
       "      <th></th>\n",
       "      <th>ticker</th>\n",
       "      <th>accession_number</th>\n",
       "      <th>data_key_friendly_name</th>\n",
       "      <th>text</th>\n",
       "      <th>data_value</th>\n",
       "      <th>reported_data_value</th>\n",
       "      <th>reported_units</th>\n",
       "      <th>paragraph_text</th>\n",
       "    </tr>\n",
       "  </thead>\n",
       "  <tbody>\n",
       "    <tr>\n",
       "      <th>0</th>\n",
       "      <td>A</td>\n",
       "      <td>0001090872-17-000018</td>\n",
       "      <td>Share Repurchase Authorization Date</td>\n",
       "      <td>May 28, 2015</td>\n",
       "      <td>20150528</td>\n",
       "      <td>20200000.00</td>\n",
       "      <td>ones</td>\n",
       "      <td>On May 28, 2015 we  announced that our board  ...</td>\n",
       "    </tr>\n",
       "    <tr>\n",
       "      <th>1</th>\n",
       "      <td>A</td>\n",
       "      <td>0001090872-17-000018</td>\n",
       "      <td>Share Repurchase Authorization</td>\n",
       "      <td>The 2015 share repurchase program authorizes t...</td>\n",
       "      <td>1140000000</td>\n",
       "      <td>1.14</td>\n",
       "      <td>billions</td>\n",
       "      <td>On May 28, 2015 we  announced that our board  ...</td>\n",
       "    </tr>\n",
       "    <tr>\n",
       "      <th>2</th>\n",
       "      <td>A</td>\n",
       "      <td>0001090872-17-000018</td>\n",
       "      <td>Share Repurchase Intention</td>\n",
       "      <td>remaining authorization to repurchase up to</td>\n",
       "      <td>610000000</td>\n",
       "      <td>610.00</td>\n",
       "      <td>millions</td>\n",
       "      <td>Table of Contents   2016, upon the completion ...</td>\n",
       "    </tr>\n",
       "    <tr>\n",
       "      <th>3</th>\n",
       "      <td>A</td>\n",
       "      <td>0001090872-17-000018</td>\n",
       "      <td>Share Repurchase Count</td>\n",
       "      <td>repurchased</td>\n",
       "      <td>4100000</td>\n",
       "      <td>4.10</td>\n",
       "      <td>millions</td>\n",
       "      <td>Table of Contents   2016, upon the completion ...</td>\n",
       "    </tr>\n",
       "    <tr>\n",
       "      <th>4</th>\n",
       "      <td>A</td>\n",
       "      <td>0001090872-17-000018</td>\n",
       "      <td>Amount Spent on Share Repurchases</td>\n",
       "      <td>repurchased</td>\n",
       "      <td>194000000</td>\n",
       "      <td>194.00</td>\n",
       "      <td>millions</td>\n",
       "      <td>Table of Contents   2016, upon the completion ...</td>\n",
       "    </tr>\n",
       "    <tr>\n",
       "      <th>5</th>\n",
       "      <td>AAL</td>\n",
       "      <td>0000006201-18-000009</td>\n",
       "      <td>Share Repurchase Authorization Date</td>\n",
       "      <td>July 2014</td>\n",
       "      <td>20140715</td>\n",
       "      <td>20100000.00</td>\n",
       "      <td>ones</td>\n",
       "      <td>4. Share Repurchase Programs and Dividends   S...</td>\n",
       "    </tr>\n",
       "    <tr>\n",
       "      <th>6</th>\n",
       "      <td>AAL</td>\n",
       "      <td>0000006201-18-000009</td>\n",
       "      <td>Share Repurchase Authorization</td>\n",
       "      <td>share repurchase programs aggregating</td>\n",
       "      <td>11000000000</td>\n",
       "      <td>11.00</td>\n",
       "      <td>billions</td>\n",
       "      <td>4. Share Repurchase Programs and Dividends   S...</td>\n",
       "    </tr>\n",
       "    <tr>\n",
       "      <th>7</th>\n",
       "      <td>AAL</td>\n",
       "      <td>0000006201-18-000009</td>\n",
       "      <td>Share Repurchase Intention</td>\n",
       "      <td>remained unused under a repurchase program</td>\n",
       "      <td>450000000</td>\n",
       "      <td>450.00</td>\n",
       "      <td>millions</td>\n",
       "      <td>4. Share Repurchase Programs and Dividends   S...</td>\n",
       "    </tr>\n",
       "    <tr>\n",
       "      <th>8</th>\n",
       "      <td>AAL</td>\n",
       "      <td>0000006201-18-000009</td>\n",
       "      <td>Share Repurchase Count</td>\n",
       "      <td>repurchased</td>\n",
       "      <td>33900000</td>\n",
       "      <td>33.90</td>\n",
       "      <td>millions</td>\n",
       "      <td>During the year ended  December 31, 2017,  we ...</td>\n",
       "    </tr>\n",
       "    <tr>\n",
       "      <th>9</th>\n",
       "      <td>AAL</td>\n",
       "      <td>0000006201-18-000009</td>\n",
       "      <td>Amount Spent on Share Repurchases</td>\n",
       "      <td>repurchased</td>\n",
       "      <td>1600000000</td>\n",
       "      <td>1.60</td>\n",
       "      <td>billions</td>\n",
       "      <td>During the year ended  December 31, 2017,  we ...</td>\n",
       "    </tr>\n",
       "  </tbody>\n",
       "</table>\n",
       "</div>"
      ],
      "text/plain": [
       "  ticker      accession_number               data_key_friendly_name  \\\n",
       "0      A  0001090872-17-000018  Share Repurchase Authorization Date   \n",
       "1      A  0001090872-17-000018       Share Repurchase Authorization   \n",
       "2      A  0001090872-17-000018           Share Repurchase Intention   \n",
       "3      A  0001090872-17-000018               Share Repurchase Count   \n",
       "4      A  0001090872-17-000018    Amount Spent on Share Repurchases   \n",
       "5    AAL  0000006201-18-000009  Share Repurchase Authorization Date   \n",
       "6    AAL  0000006201-18-000009       Share Repurchase Authorization   \n",
       "7    AAL  0000006201-18-000009           Share Repurchase Intention   \n",
       "8    AAL  0000006201-18-000009               Share Repurchase Count   \n",
       "9    AAL  0000006201-18-000009    Amount Spent on Share Repurchases   \n",
       "\n",
       "                                                text   data_value  \\\n",
       "0                                       May 28, 2015     20150528   \n",
       "1  The 2015 share repurchase program authorizes t...   1140000000   \n",
       "2        remaining authorization to repurchase up to    610000000   \n",
       "3                                        repurchased      4100000   \n",
       "4                                        repurchased    194000000   \n",
       "5                                          July 2014     20140715   \n",
       "6              share repurchase programs aggregating  11000000000   \n",
       "7         remained unused under a repurchase program    450000000   \n",
       "8                                        repurchased     33900000   \n",
       "9                                        repurchased   1600000000   \n",
       "\n",
       "   reported_data_value reported_units  \\\n",
       "0          20200000.00           ones   \n",
       "1                 1.14       billions   \n",
       "2               610.00       millions   \n",
       "3                 4.10       millions   \n",
       "4               194.00       millions   \n",
       "5          20100000.00           ones   \n",
       "6                11.00       billions   \n",
       "7               450.00       millions   \n",
       "8                33.90       millions   \n",
       "9                 1.60       billions   \n",
       "\n",
       "                                      paragraph_text  \n",
       "0  On May 28, 2015 we  announced that our board  ...  \n",
       "1  On May 28, 2015 we  announced that our board  ...  \n",
       "2  Table of Contents   2016, upon the completion ...  \n",
       "3  Table of Contents   2016, upon the completion ...  \n",
       "4  Table of Contents   2016, upon the completion ...  \n",
       "5  4. Share Repurchase Programs and Dividends   S...  \n",
       "6  4. Share Repurchase Programs and Dividends   S...  \n",
       "7  4. Share Repurchase Programs and Dividends   S...  \n",
       "8  During the year ended  December 31, 2017,  we ...  \n",
       "9  During the year ended  December 31, 2017,  we ...  "
      ]
     },
     "execution_count": 2,
     "metadata": {},
     "output_type": "execute_result"
    }
   ],
   "source": [
    "# I've been tasked with the data engineering process to generate the data to be used in our model. \n",
    "p.head(10)"
   ]
  },
  {
   "cell_type": "code",
   "execution_count": 3,
   "metadata": {},
   "outputs": [
    {
     "name": "stdout",
     "output_type": "stream",
     "text": [
      "<class 'pandas.core.frame.DataFrame'>\n",
      "RangeIndex: 1781 entries, 0 to 1780\n",
      "Data columns (total 8 columns):\n",
      "ticker                    1781 non-null object\n",
      "accession_number          1781 non-null object\n",
      "data_key_friendly_name    1781 non-null object\n",
      "text                      1781 non-null object\n",
      "data_value                1781 non-null int64\n",
      "reported_data_value       1781 non-null float64\n",
      "reported_units            1781 non-null object\n",
      "paragraph_text            1781 non-null object\n",
      "dtypes: float64(1), int64(1), object(6)\n",
      "memory usage: 111.4+ KB\n"
     ]
    }
   ],
   "source": [
    "p.info()"
   ]
  },
  {
   "cell_type": "code",
   "execution_count": 4,
   "metadata": {},
   "outputs": [
    {
     "data": {
      "text/plain": [
       "'On May 28, 2015 we  announced that our board  of directors had approved a  new share repurchase program  (the   \"2015 repurchase program\"). The 2015 share repurchase program authorizes the purchase of up to $1.14  billion   of our common stock at the company\\'s discretion  through and including November 1, 2018. The 2015  repurchase   program does  not require  the company  to  acquire a  specific number  of  shares and  may be  suspended  or   discontinued at any time. During the year ended October 31,                                                        95'"
      ]
     },
     "execution_count": 4,
     "metadata": {},
     "output_type": "execute_result"
    }
   ],
   "source": [
    "p.paragraph_text[0]"
   ]
  },
  {
   "cell_type": "markdown",
   "metadata": {},
   "source": [
    "## _Parcing Item 8 up to the exhibts from a sample filing_"
   ]
  },
  {
   "cell_type": "code",
   "execution_count": 5,
   "metadata": {},
   "outputs": [],
   "source": [
    "# Starting with just one html file in order to manually parse all the elements before item 8 out of file. \n",
    "# It does not look like these html files will be parceable with beautifulsoup. \n",
    "filename = '0000002969-17-000039.html'\n",
    "request = urllib.request.Request('file:///C:/Users/carmijh0/Desktop/Data_Science/Q8/data/nc_training_filings/'+filename)\n",
    "result = urllib.request.urlopen(request)\n",
    "resulttext = result.read()"
   ]
  },
  {
   "cell_type": "code",
   "execution_count": 6,
   "metadata": {},
   "outputs": [],
   "source": [
    "# Results in all the text from the html file\n",
    "soup_test = BS(resulttext, 'lxml').text\n",
    "# soup_test.prettify();"
   ]
  },
  {
   "cell_type": "code",
   "execution_count": 7,
   "metadata": {},
   "outputs": [
    {
     "name": "stdout",
     "output_type": "stream",
     "text": [
      "<class 'str'>\n"
     ]
    }
   ],
   "source": [
    "print(type(soup_test))"
   ]
  },
  {
   "cell_type": "code",
   "execution_count": 8,
   "metadata": {},
   "outputs": [],
   "source": [
    "soup_text = soup_test"
   ]
  },
  {
   "cell_type": "code",
   "execution_count": 9,
   "metadata": {},
   "outputs": [],
   "source": [
    "# soup_text = cleanhtml(soup_test)"
   ]
  },
  {
   "cell_type": "code",
   "execution_count": 10,
   "metadata": {},
   "outputs": [],
   "source": [
    "# cleanhtml_spaces(soup_text)"
   ]
  },
  {
   "cell_type": "code",
   "execution_count": 11,
   "metadata": {},
   "outputs": [],
   "source": [
    "# Trying soup.get_text() to make a massive string and use regex to separate item 8\n",
    "# soup_text = soup_test.get_text()"
   ]
  },
  {
   "cell_type": "code",
   "execution_count": 12,
   "metadata": {},
   "outputs": [
    {
     "data": {
      "text/plain": [
       "281148"
      ]
     },
     "execution_count": 12,
     "metadata": {},
     "output_type": "execute_result"
    }
   ],
   "source": [
    "# ITEM 8 begins here\n",
    "soup_text.find('FINANCIAL STATEMENTS AND SUPPLEMENTARY DATA')"
   ]
  },
  {
   "cell_type": "code",
   "execution_count": 13,
   "metadata": {},
   "outputs": [
    {
     "data": {
      "text/plain": [
       "528263"
      ]
     },
     "execution_count": 13,
     "metadata": {},
     "output_type": "execute_result"
    }
   ],
   "source": [
    "# Stopping at the exhibts \n",
    "soup_text.find('EXHIBITS AND FINANCIAL STATEMENT SCHEDULES')"
   ]
  },
  {
   "cell_type": "code",
   "execution_count": 14,
   "metadata": {},
   "outputs": [],
   "source": [
    "soup_text_parsed = soup_text[281149:528264]"
   ]
  },
  {
   "cell_type": "code",
   "execution_count": 15,
   "metadata": {},
   "outputs": [
    {
     "name": "stdout",
     "output_type": "stream",
     "text": [
      "<class 'str'>\n"
     ]
    }
   ],
   "source": [
    "print(type(soup_text_parsed))"
   ]
  },
  {
   "cell_type": "code",
   "execution_count": 16,
   "metadata": {},
   "outputs": [
    {
     "data": {
      "text/plain": [
       "247115"
      ]
     },
     "execution_count": 16,
     "metadata": {},
     "output_type": "execute_result"
    }
   ],
   "source": [
    "len(soup_text_parsed)"
   ]
  },
  {
   "cell_type": "markdown",
   "metadata": {},
   "source": [
    "## _Identifying share repurchase paragraphs via texttiling tokenization_"
   ]
  },
  {
   "cell_type": "code",
   "execution_count": 17,
   "metadata": {},
   "outputs": [],
   "source": [
    "# Word tokenization\n",
    "test_tok_word = word_tokenize(soup_text_parsed)"
   ]
  },
  {
   "cell_type": "code",
   "execution_count": 18,
   "metadata": {},
   "outputs": [
    {
     "data": {
      "text/plain": [
       "4"
      ]
     },
     "execution_count": 18,
     "metadata": {},
     "output_type": "execute_result"
    }
   ],
   "source": [
    "# 4 instances of repurchase in this filling.\n",
    "test_tok_word.count('repurchase')"
   ]
  },
  {
   "cell_type": "code",
   "execution_count": 19,
   "metadata": {},
   "outputs": [
    {
     "data": {
      "text/plain": [
       "0"
      ]
     },
     "execution_count": 19,
     "metadata": {},
     "output_type": "execute_result"
    }
   ],
   "source": [
    "test_tok_word.count('ASR')"
   ]
  },
  {
   "cell_type": "code",
   "execution_count": 20,
   "metadata": {},
   "outputs": [
    {
     "name": "stdout",
     "output_type": "stream",
     "text": [
      "found one of em\n"
     ]
    }
   ],
   "source": [
    "keyword_list = ['repurchase', 'ASR']\n",
    "if any(word in test_tok_word for word in keyword_list):\n",
    "    print('found one of em')"
   ]
  },
  {
   "cell_type": "code",
   "execution_count": 21,
   "metadata": {},
   "outputs": [],
   "source": [
    "# Attempting to use the Estonian Natural Language Processing... Seems to be some sort of install issue. Can't recognize \"Tokenizer().\"\n",
    "# https://github.com/estnltk/estnltk\n",
    "# tokenizer = estnltk.Tokenizer()\n",
    "# test_tok_para = tokenizer.tokenize(soup_text_parsed) "
   ]
  },
  {
   "cell_type": "code",
   "execution_count": 22,
   "metadata": {},
   "outputs": [],
   "source": [
    "# Can I tokenize the sample str into paragraphs? \n",
    "ttt = nltk.tokenize.TextTilingTokenizer()\n",
    "para_list = ttt.tokenize(soup_text_parsed)"
   ]
  },
  {
   "cell_type": "code",
   "execution_count": 23,
   "metadata": {},
   "outputs": [
    {
     "name": "stdout",
     "output_type": "stream",
     "text": [
      "<class 'list'>\n"
     ]
    }
   ],
   "source": [
    "print(type(para_list))"
   ]
  },
  {
   "cell_type": "code",
   "execution_count": 24,
   "metadata": {},
   "outputs": [
    {
     "name": "stdout",
     "output_type": "stream",
     "text": [
      "1\n"
     ]
    }
   ],
   "source": [
    "# Identifying specific paragraph where the repurchase is mentioned\n",
    "counter = 0\n",
    "for p in para_list:\n",
    "    p_token = word_tokenize(p)\n",
    "    if \"repurchase\" in p_token:\n",
    "        counter += 1\n",
    "        print(counter)"
   ]
  },
  {
   "cell_type": "code",
   "execution_count": 25,
   "metadata": {},
   "outputs": [],
   "source": [
    "# Remove paragraphs from the list that don't contain repurchase\n",
    "approved = ['repurchase','ASR']\n",
    "refined_list = [para for para in para_list if any(instance in para for instance in approved)]"
   ]
  },
  {
   "cell_type": "code",
   "execution_count": 26,
   "metadata": {},
   "outputs": [
    {
     "data": {
      "text/plain": [
       "['\\n\\n\\n18. CAPITAL STOCK\\nCommon Stock\\nAuthorized common stock consists of 300\\nmillion shares with a par value of $1 per share. As of 30 September 2017, 249 million shares were issued, with 218 million\\noutstanding.\\nOn 15 September 2011, the Board of Directors authorized the repurchase of up\\nto $1,000 of our outstanding common stock. We repurchase\\nshares pursuant to Rules 10b5-1 and 10b-18 under the Securities Exchange Act of 1934, as amended, through\\nrepurchase agreements established with several brokers. We did not purchase any of our outstanding shares\\nduring fiscal year 2017. At 30 September 2017,\\n$485.3 in share repurchase authorization remains.\\nThe following table reflects the changes in common shares:']"
      ]
     },
     "execution_count": 26,
     "metadata": {},
     "output_type": "execute_result"
    }
   ],
   "source": [
    "# I'll need to remove '/n's' and any other html elements from the final list of paragraphs.\n",
    "refined_list"
   ]
  },
  {
   "cell_type": "markdown",
   "metadata": {},
   "source": [
    "## _Creating a pipeline to isolate all paragraph instances of repurchase to create a test dataset for our model_"
   ]
  },
  {
   "cell_type": "code",
   "execution_count": 27,
   "metadata": {},
   "outputs": [],
   "source": [
    "def find_repurchase_paragraphs(paragraph_list):\n",
    "    approved = ['repurchase','ASR']\n",
    "    relevant_list = [para for para in paragraph_list if any(instance in para for instance in approved)]\n",
    "    return relevant_list"
   ]
  },
  {
   "cell_type": "code",
   "execution_count": 28,
   "metadata": {},
   "outputs": [],
   "source": [
    "def split_into_paragraphs(file):\n",
    "    t = nltk.tokenize.TextTilingTokenizer()\n",
    "    p_list = t.tokenize(file)\n",
    "    return p_list"
   ]
  },
  {
   "cell_type": "code",
   "execution_count": 29,
   "metadata": {},
   "outputs": [],
   "source": [
    "def cleanhtml(raw_html):\n",
    "    cleanr = re.compile(r'<[^>]+>')\n",
    "    cleantext = re.sub(cleanr, '', raw_html)\n",
    "    return cleantext"
   ]
  },
  {
   "cell_type": "code",
   "execution_count": 30,
   "metadata": {},
   "outputs": [],
   "source": [
    "def cleanhtml_spaces(raw_html):\n",
    "    cleanr_1 = re.compile(r'/\\r?\\n|\\r/')\n",
    "    cleantext_1 = re.sub(cleanr_1, '', raw_html)\n",
    "    return cleantext_1"
   ]
  },
  {
   "cell_type": "code",
   "execution_count": 31,
   "metadata": {},
   "outputs": [],
   "source": [
    "def get_soup(path):\n",
    "    request = urllib.request.Request(path)\n",
    "    result = urllib.request.urlopen(request)\n",
    "    resulttext = result.read()\n",
    "    soup = BS(resulttext, 'lxml').text\n",
    "#     soup = soup.prettify()\n",
    "#     soup = str(soup.get_text())\n",
    "    return soup"
   ]
  },
  {
   "cell_type": "code",
   "execution_count": null,
   "metadata": {},
   "outputs": [],
   "source": [
    "p_list_final = []\n",
    "a_list = []\n",
    "\n",
    "path = 'C:/Users/carmijh0/Desktop/Data_Science/Q8/data_1'\n",
    "prefix = 'file:///'\n",
    "\n",
    "for root, dirs, files in os.walk(path, topdown=True):\n",
    "    for f in files:\n",
    "#         print(prefix + os.path.join(root, f))\n",
    "        s = get_soup(prefix + os.path.join(root, f))\n",
    "        soup_tokenized = split_into_paragraphs(s)\n",
    "        p_list = find_repurchase_paragraphs(soup_tokenized)\n",
    "        p_list_final.append(p_list)\n",
    "        a_list.append(f)"
   ]
  },
  {
   "cell_type": "code",
   "execution_count": 33,
   "metadata": {},
   "outputs": [
    {
     "data": {
      "text/plain": [
       "[[\"\\n\\n\\n\\n \\n\\n\\n139.84\\n\\n\\n\\n\\n\\n \\n\\n\\n.86\\n\\n\\n\\n\\n\\n\\n\\n \\n\\n\\n \\n\\n\\n \\n\\n\\n \\n\\n\\n \\n\\n\\n \\n\\n\\n \\n\\n\\n \\n\\n\\n$\\n\\n\\n3.39\\n\\n\\n\\n\\n\\n\\n\\nPurchases of Equity Securities by the Issuer\\nOn 15 September 2011, the Board of Directors authorized the repurchase of up\\nto $1.0 billion of our outstanding common stock. This program\\ndoes not have a stated expiration date. We repurchase shares pursuant to Rules 10b5-1 and 10b-18 under the\\nSecurities Exchange Act of 1934, as amended, through repurchase agreements established with several brokers.\\nThere were no purchases of stock during fiscal year 2017.\\nAt 30 September 2017, $485.3\\nmillion in share repurchase authorization remained. Additional purchases will be\\ncompleted at the Company's discretion while maintaining sufficient funds for investing in its businesses and\\ngrowth opportunities.\\n15\",\n",
       "  '\\n\\nTable of Contents\\nFinancing and Capital Structure\\nCapital needs in 2017 were\\nsatisfied primarily with cash from operations. At the end of 2017, total debt outstanding was $3,962.8 compared\\nto $5,210.9 at the end of 2016, and cash and cash items were $3,273.6\\ncompared to $1,293.2 at the end of\\n2016.\\nOn 31 March 2017, we entered into a five-year $2,500.0 revolving credit\\nagreement with a syndicate of banks (the \"2017 Credit Agreement\"), under which senior unsecured debt is\\navailable to both the Company and certain of its subsidiaries. The 2017 Credit Agreement provides a source of\\nliquidity for the Company and supports its commercial paper program. The Company\\'s only financial covenant is a\\nmaximum ratio of total debt to total capitalization (total debt plus total equity) no greater than 70%. Total\\ndebt at 30 September 2017 and 2016, expressed as a percentage of total capitalization (total debt plus total\\nequity), was 28.0% and 41.9%, respectively. No borrowings were outstanding under the 2017 Credit\\nAgreement as of 30 September 2017.\\nThe 2017 Credit Agreement terminates and replaces our previous $2,690.0 revolving credit\\nagreement (the \"2013 Credit Agreement\"), which was to mature 30 April 2018. No borrowings were outstanding\\nunder the previous agreement at the time of its termination, and no early termination penalties were\\nincurred.\\nCommitments totaling $23.4 are maintained by our foreign subsidiaries, all of which was borrowed and outstanding at\\n30 September 2017.\\nAs of 30 September 2017,\\nwe are in compliance with all of the financial and other covenants under our debt agreements.\\nOn 15 September 2011, the Board of Directors authorized the repurchase of up\\nto $1,000 of our outstanding common stock. We did not\\npurchase any of our outstanding shares during fiscal years 2017, 2016 or 2015. At 30 September 2017, $485.3 in share repurchase authorization remains.\\n2018 Outlook\\nCash flows from operations and financing activities are expected to meet\\nliquidity needs for the foreseeable future and our working capital balance was $3,387.7 at 30 September 2017.\\nWe expect that we will continue to be in compliance with all of our financial covenants.\\nOn 16 October 2017, we repaid a 1.2% Senior Note of $400 that matured on 15 October 2017. As\\nof 30 September 2017, this note was reflected in current portion of long-term debt on the consolidated balance\\nsheets.\\nDividends\\nDividends are declared by the Board of Directors and are usually paid during\\nthe sixth week after the close of the fiscal quarter. During 2017, the Board of Directors increased the quarterly dividend from $.86 per share to $.95 per\\nshare.',\n",
       "  \"\\n\\nTable of Contents\\nThe unconditional purchase obligations also include other product supply and purchase\\ncommitments and electric power and natural gas supply purchase obligations, which are primarily pass-through\\ncontracts with our customers.\\nPurchase commitments to spend approximately $300 for additional plant and equipment are included in the unconditional\\npurchase obligations in 2018. In addition, we have purchase\\ncommitments totaling approximately $180 in\\n2018 relating to our long-term sale of equipment project for Saudi\\nAramco's Jazan oil refinery.\\n\\n\\n18. CAPITAL STOCK\\nCommon Stock\\nAuthorized common stock consists of 300\\nmillion shares with a par value of $1 per share. As of 30 September 2017, 249 million shares were issued, with 218 million\\noutstanding.\\nOn 15 September 2011, the Board of Directors authorized the repurchase of up\\nto $1,000 of our outstanding common stock. We repurchase\\nshares pursuant to Rules 10b5-1 and 10b-18 under the Securities Exchange Act of 1934, as amended, through\\nrepurchase agreements established with several brokers. We did not purchase any of our outstanding shares\\nduring fiscal year 2017. At 30 September 2017,\\n$485.3 in share repurchase authorization remains.\\nThe following table reflects the changes in common shares:\"],\n",
       " ['\\n\\nAs a holding company, the Parent Company depends on the ability of its subsidiaries to\\ntransfer funds to it to meet its debt service and other obligations and to pay dividends on its common\\nstock.\\nThe Parent Company is a holding company and has no direct operations, and its most significant\\nassets are the stock of its subsidiaries. Because the Parent Company conducts its operations through its\\noperating subsidiaries, the Parent Company depends on those entities for dividends and other payments to\\ngenerate the funds necessary to meet its debt service and other obligations, and to pay dividends on and\\nconduct repurchases of its common stock.',\n",
       "  \"\\n\\n\\n32\\n\\n\\n\\nStock Performance Graph\\nThe following graph compares the five-year performance of the Company's common stock to the\\nStandard & Poor's 500 Index (S&P 500) and the Standard & Poor's Life and Health Insurance Index\\n(S&P Life and Health). The Standard & Poor's Life and Health Insurance Index includes: Aflac\\nIncorporated, Brighthouse Financial Inc., Lincoln National Corporation, MetLife Inc., Principal Financial Group\\nInc., Prudential Financial Inc., Torchmark Corporation and Unum Group.\\n \\n\\nPerformance Graphic Index\\nDecember 31,\\n\\n\\n\\n\\n\\n\\n\\n\\n\\n\\n\\n\\n\\n\\n\\n\\n\\n\\n\\n\\n\\n\\n\\n\\n\\n\\n\\n \\n\\n\\n2012\\n\\n\\n\\n\\n\\n \\n\\n\\n2013\\n\\n\\n\\n\\n\\n \\n\\n\\n2014\\n\\n\\n\\n\\n\\n \\n\\n\\n2015\\n\\n\\n\\n\\n\\n \\n\\n\\n2016\\n\\n\\n\\n\\n\\n \\n\\n\\n2017\\n\\n\\n\\n\\n\\n\\n\\nAflac Incorporated\\n\\n\\n100.00\\n\\n\\n\\n\\n\\n \\n\\n\\n128.91\\n\\n\\n\\n\\n\\n \\n\\n\\n120.81\\n\\n\\n\\n\\n\\n \\n\\n\\n121.44\\n\\n\\n\\n\\n\\n \\n\\n\\n144.65\\n\\n\\n\\n\\n\\n \\n\\n\\n186.59\\n\\n\\n\\n\\n\\n\\n\\nS&P 500\\n\\n\\n100.00\\n\\n\\n\\n\\n\\n \\n\\n\\n132.39\\n\\n\\n\\n\\n\\n \\n\\n\\n150.51\\n\\n\\n\\n\\n\\n \\n\\n\\n152.59\\n\\n\\n\\n\\n\\n \\n\\n\\n170.84\\n\\n\\n\\n\\n\\n \\n\\n\\n208.14\\n\\n\\n\\n\\n\\n\\n\\nS&P Life & Health Insurance\\n\\n\\n100.00\\n\\n\\n\\n\\n\\n \\n\\n\\n163.48\\n\\n\\n\\n\\n\\n \\n\\n\\n166.66\\n\\n\\n\\n\\n\\n \\n\\n\\n156.14\\n\\n\\n\\n\\n\\n \\n\\n\\n194.96\\n\\n\\n\\n\\n\\n \\n\\n\\n226.98\\n\\n\\n\\n\\n\\n\\n\\nCopyright©\\n2018 Standard & Poor's, a division of S&P Global. All rights reserved.\\n\\n33\\n\\n\\n\\nIssuer Purchases of Equity Securities\\nDuring the year ended December 31,\\n2017, we repurchased shares of Aflac common stock as follows:\\n\\n\\n\\n\\n\\n\\n\\n\\n\\n\\n\\n\\n\\n\\n\\n\\n\\n\\n\\n\\n\\n\\n\\n\\n\\n\\n\\n\\n\\n\\n\\nPeriod\\n\\n\\nTotal Number of Shares Purchased\\n\\n\\n \\n\\n\\nAverage Price Paid Per Share\\n\\n\\n \\n\\n\\nTotal Number of Shares Purchased as Part of Publicly Announced Plans or Programs\\n\\n\\n \\n\\n\\nMaximum     Number of     Shares that     May Yet Be     Purchased     Under the     Plans or\\n    Programs    \\n\\n\\n \\n\\n\\n\\n\\nJanuary 1 - January 31\\n\\n\\n \\n\\n\\n3,819,299\\n\\n\\n\\n\\n\\n \\n\\n\\n \\n\\n\\n \\n\\n\\n$\\n\\n\\n69.94\\n\\n\\n\\n\\n\\n \\n\\n\\n \\n\\n\\n \\n\\n\\n3,819,299\\n\\n\\n\\n\\n\\n \\n\\n\\n \\n\\n\\n \\n\\n\\n22,934,155\\n\\n\\n\\n\\n\\n \\n\\n\\n \\n\\n\\n\\n\\nFebruary 1 - February 28\\n\\n\\n \\n\\n\\n1,988,420\\n\\n\\n\\n\\n\\n \\n\\n\\n \\n\\n\\n \\n\\n\\n70.03\\n\\n\\n\\n\\n\\n \\n\\n\\n \\n\\n\\n \\n\\n\\n1,853,000\\n\\n\\n\\n\\n\\n \\n\\n\\n \\n\\n\\n \\n\\n\\n21,081,155\\n\\n\\n\\n\\n\\n \\n\\n\\n \\n\\n\\n\\n\\nMarch 1 - March 31\\n\\n\\n \\n\\n\\n2,825,614\\n\\n\\n\\n\\n\\n \\n\\n\\n \\n\\n\\n \\n\\n\\n72.12\\n\\n\\n\\n\\n\\n \\n\\n\\n \\n\\n\\n \\n\\n\\n2,821,009\\n\\n\\n\\n\\n\\n \\n\\n\\n \\n\\n\\n \\n\\n\\n18,260,146\\n\\n\\n\\n\\n\\n \\n\\n\\n \\n\\n\\n\\n\\nApril 1 - April 30\\n\\n\\n \\n\\n\\n1,764,523\\n\\n\\n\\n\\n\\n \\n\\n\\n \\n\\n\\n \\n\\n\\n73.70\\n\\n\\n\\n\\n\\n \\n\\n\\n \\n\\n\\n \\n\\n\\n1,764,523\\n\\n\\n\\n\\n\\n \\n\\n\\n \\n\\n\\n \\n\\n\\n16,495,623\\n\\n\\n\\n\\n\\n \\n\\n\\n \\n\\n\\n\\n\\nMay 1 - May 31\\n\\n\\n \\n\\n\\n501\\n\\n\\n\\n\\n\\n \\n\\n\\n \\n\\n\\n \\n\\n\\n74.84\\n\\n\\n\\n\\n\\n \\n\\n\\n \\n\\n\\n \\n\\n\\n0\\n\\n\\n\\n\\n\\n \\n\\n\\n \\n\\n\\n \\n\\n\\n16,495,623\\n\\n\\n\\n\\n\\n \\n\\n\\n \\n\\n\\n\\n\\nJune 1  - June 30\\n\\n\\n \\n\\n\\n902,308\\n\\n\\n\\n\\n\\n \\n\\n\\n \\n\\n\\n \\n\\n\\n78.08\\n\\n\\n\\n\\n\\n \\n\\n\\n \\n\\n\\n \\n\\n\\n896,795\\n\\n\\n\\n\\n\\n \\n\\n\\n \\n\\n\\n \\n\\n\\n15,598,828\\n\\n\\n\\n\\n\\n \\n\\n\\n \\n\\n\\n\\n\\nJuly 1 - July 31\\n\\n\\n \\n\\n\\n1,066,100\\n\\n\\n\\n\\n\\n \\n\\n\\n \\n\\n\\n \\n\\n\\n77.88\\n\\n\\n\\n\\n\\n \\n\\n\\n \\n\\n\\n \\n\\n\\n1,066,100\\n\\n\\n\\n\\n\\n \\n\\n\\n \\n\\n\\n \\n\\n\\n14,532,728\\n\\n\\n\\n\\n\\n \\n\\n\\n \\n\\n\\n\\n\\nAugust 1 - August 31\\n\\n\\n \\n\\n\\n1,356,142\\n\\n\",\n",
       "  '\\n\\n\\n\\n\\n\\n \\n\\n\\n(1) \\n\\n\\n\\n\\n(1)The total remaining\\nshares available for purchase at December 31, 2017,\\nconsisted of 8,998,386 shares related to a 40,000,000 share\\nrepurchase authorization by the board of directors in 2015 and 40,000,000 shares related to a 40,000,000 share\\nrepurchase authorization by the board of directors announced in August 2017.\\n(2)During the year\\nended December 31, 2017, 156,456 shares were purchased in connection with income tax withholding\\nobligations related to the vesting of restricted-share-based awards during the period.\\n\\n\\n34\\n\\n\\n\\n\\nITEM 6.     SELECTED FINANCIAL DATA\\n\\nAflac Incorporated and Subsidiaries\\nYears Ended December 31,\\n \\n\\n\\n\\n\\n\\n\\n\\n\\n\\n\\n\\n\\n\\n\\n\\n\\n\\n\\n\\n\\n\\n\\n\\n\\n\\n\\n\\n\\n\\n(In millions, except for share and per-share amounts)\\n\\n\\n2017\\n\\n\\n \\n\\n\\n2016\\n\\n\\n \\n\\n\\n2015\\n\\n\\n \\n\\n\\n2014\\n\\n\\n \\n\\n\\n2013\\n\\n\\n\\n\\nRevenues:\\n\\n\\n \\n\\n\\n \\n\\n\\n \\n\\n\\n \\n\\n\\n \\n\\n\\n \\n\\n\\n \\n\\n\\n \\n\\n\\n \\n\\n\\n\\n\\nNet premiums, principally supplemental health insurance\\n\\n\\n$\\n\\n\\n18,531\\n\\n\\n\\n\\n\\n \\n\\n\\n$\\n\\n\\n19,225\\n\\n\\n\\n\\n\\n \\n\\n\\n$\\n\\n\\n17,570\\n\\n\\n\\n\\n\\n \\n\\n\\n$\\n\\n\\n19,072\\n\\n\\n\\n\\n\\n \\n\\n\\n$\\n\\n\\n20,135\\n\\n\\n\\n\\n\\n\\n\\nNet investment income\\n\\n\\n3,220\\n\\n\\n\\n\\n\\n \\n\\n\\n3,278\\n\\n\\n\\n\\n\\n \\n\\n\\n3,135\\n\\n\\n\\n\\n\\n \\n\\n\\n3,319\\n\\n\\n\\n\\n\\n \\n\\n\\n3,293\\n\\n\\n\\n\\n\\n\\n\\nRealized investment gains (losses)\\n\\n\\n(151\\n\\n\\n)\\n\\n\\n \\n\\n\\n(14\\n\\n\\n)\\n\\n\\n \\n\\n\\n106\\n\\n\\n\\n\\n\\n \\n\\n\\n282\\n\\n\\n\\n\\n\\n \\n\\n\\n426\\n\\n\\n\\n\\n\\n\\n\\nOther income\\n\\n\\n67\\n\\n\\n\\n\\n\\n \\n\\n\\n70\\n\\n\\n\\n\\n\\n \\n\\n\\n61\\n\\n\\n\\n\\n\\n \\n\\n\\n55\\n\\n\\n\\n\\n\\n \\n\\n\\n85\\n\\n\\n\\n\\n\\n\\n\\nTotal revenues\\n\\n\\n21,667\\n\\n\\n\\n\\n\\n \\n\\n\\n22,559\\n\\n\\n\\n\\n\\n \\n\\n\\n20,872\\n\\n\\n\\n\\n\\n \\n\\n\\n22,728\\n\\n\\n\\n\\n\\n \\n\\n\\n23,939\\n\\n\\n\\n\\n\\n\\n\\nBenefits and expenses:\\n\\n\\n \\n\\n\\n \\n\\n\\n \\n\\n\\n \\n\\n\\n \\n\\n\\n \\n\\n\\n \\n\\n\\n \\n\\n\\n \\n\\n\\n\\n\\nBenefits and claims, net\\n\\n\\n12,181\\n\\n\\n\\n\\n\\n \\n\\n\\n12,919\\n\\n\\n\\n\\n\\n \\n\\n\\n11,746\\n\\n\\n\\n\\n\\n \\n\\n\\n12,937\\n\\n\\n\\n\\n\\n \\n\\n\\n13,813\\n\\n\\n\\n\\n\\n\\n\\nExpenses\\n\\n\\n5,468\\n\\n\\n\\n\\n\\n \\n\\n\\n5,573\\n\\n\\n\\n\\n\\n \\n\\n\\n5,264\\n\\n\\n\\n\\n\\n \\n\\n\\n5,300\\n\\n\\n\\n\\n\\n \\n\\n\\n5,310\\n\\n\\n\\n\\n\\n\\n\\nTotal benefits and expenses\\n\\n\\n17,649\\n\\n\\n\\n\\n\\n \\n\\n\\n18,492\\n\\n\\n\\n\\n\\n \\n\\n\\n17,010\\n\\n\\n\\n\\n\\n \\n\\n\\n18,237\\n\\n\\n\\n\\n\\n \\n\\n\\n19,123\\n\\n\\n\\n\\n\\n\\n\\nPretax earnings\\n\\n\\n4,018\\n\\n\\n\\n\\n\\n \\n\\n\\n4,067\\n\\n\\n\\n\\n\\n \\n\\n\\n3,862\\n\\n\\n\\n\\n\\n \\n\\n\\n4,491\\n\\n\\n\\n\\n\\n \\n\\n\\n4,816\\n\\n\\n\\n\\n\\n\\n\\nIncome taxes\\n\\n\\n(586\\n\\n\\n)\\n\\n\\n \\n\\n\\n1,408\\n\\n\\n\\n\\n\\n \\n\\n\\n1,329\\n\\n\\n\\n\\n\\n \\n\\n\\n1,540\\n\\n\\n\\n\\n\\n \\n\\n\\n1,658\\n\\n\\n\\n\\n\\n\\n\\nNet earnings\\n\\n\\n$\\n\\n\\n4,604\\n\\n\\n\\n\\n\\n \\n\\n\\n$\\n\\n\\n2,659\\n\\n\\n\\n\\n\\n \\n\\n\\n$\\n\\n\\n2,533\\n\\n\\n\\n\\n\\n \\n\\n\\n$\\n\\n\\n2,951\\n\\n\\n\\n\\n\\n \\n\\n\\n$\\n\\n\\n3,158\\n\\n\\n\\n\\n\\n\\n\\nShare and Per-Share Amounts\\n\\n\\n \\n\\n\\n \\n\\n\\n \\n\\n\\n \\n\\n\\n \\n\\n\\n \\n\\n\\n \\n\\n\\n \\n\\n\\n \\n\\n\\n\\n\\nNet earnings (basic)\\n\\n\\n$\\n\\n\\n11.63\\n\\n\\n\\n\\n\\n \\n\\n\\n$\\n\\n\\n6.46\\n\\n\\n\\n\\n\\n \\n\\n\\n$\\n\\n\\n5.88\\n\\n\\n\\n\\n\\n \\n\\n\\n$\\n\\n\\n6.54\\n\\n\\n\\n\\n\\n \\n\\n\\n$\\n\\n\\n6.80\\n\\n\\n\\n\\n\\n\\n\\nNet earnings (diluted)\\n\\n\\n11.54\\n\\n\\n\\n\\n\\n \\n\\n\\n6.42\\n\\n\\n\\n\\n\\n \\n\\n\\n5.85\\n\\n\\n\\n\\n\\n \\n\\n\\n6.50\\n\\n\\n\\n\\n\\n \\n\\n\\n6.76\\n\\n\\n\\n\\n\\n\\n\\nCash dividends paid\\n\\n\\n1.74\\n\\n\\n\\n\\n\\n \\n\\n\\n1.66\\n\\n\\n\\n\\n\\n \\n\\n\\n1.58\\n\\n\\n\\n\\n\\n \\n\\n\\n1.50\\n\\n\\n\\n\\n\\n \\n\\n\\n1.42\\n\\n\\n\\n\\n\\n\\n\\nCash dividends declared\\n\\n\\n1.74\\n\\n\\n\\n\\n\\n \\n\\n\\n1.66\\n\\n\\n\\n\\n\\n \\n\\n\\n1.58\\n\\n\\n\\n\\n\\n \\n\\n\\n1.50\\n\\n\\n\\n\\n\\n \\n\\n\\n1.42\\n\\n\\n\\n\\n\\n\\n\\nWeighted-average common shares used for basic EPS (In thousands)\\n\\n\\n396,021\\n\\n\\n\\n\\n\\n \\n\\n\\n411,471\\n\\n\\n\\n\\n\\n ',\n",
       "  \"\\n\\nThe Company repurchased 17.8 million shares of its common stock in the open market for $1.35 billion\\nunder the Company's share repurchase program in 2017, compared with the repurchase of 21.6\\nmillion shares for $1.4 billion in 2016.\\n\\n\\nCRITICAL ACCOUNTING ESTIMATES\\n\\nThe Company prepares its financial statements in accordance with U.S.\\ngenerally accepted accounting principles (GAAP). These principles are established primarily by the Financial\\nAccounting Standards Board (FASB). In this MD&A, references to U.S. GAAP issued by the FASB are derived\\nfrom the FASB Accounting Standards CodificationTM\\n(ASC). The preparation of financial statements in conformity with U.S. GAAP requires the\\nCompany to make estimates based on currently available information when recording transactions resulting from\\nbusiness operations. The estimates that the Company deems to be most critical to an understanding of Aflac's\\nresults of operations and financial condition are those related to the valuation of investments and\\nderivatives, deferred policy acquisition costs (DAC), liabilities for future policy benefits and unpaid policy\\nclaims, and income taxes. The preparation and evaluation of these critical accounting estimates involve the use\\nof various assumptions developed from management's analyses and judgments. The application of these critical\\naccounting estimates determines the values at which 95% of\\nthe Company's assets and 81% of its liabilities are reported\\nas of December 31, 2017, and thus has a direct effect on net\\nearnings and shareholders' equity. Subsequent experience or use of other assumptions could produce\\nsignificantly different results.\",\n",
       "  '\\n\\n\\n \\n\\n\\n2.62\\n\\n\\n%\\n\\n\\n \\n\\n\\n2.80\\n\\n\\n%\\n\\n\\n\\n\\n(1) Includes fixed\\nmaturities and perpetual securities, loan receivables, equities, and excludes alternative investments in\\nlimited partnerships\\n(2) Reported on a gross\\nyield basis; excludes investment expenses, external management fees, and amortized hedge costs\\n(3) Net of investment\\nexpenses and amortized hedge costs, year-to-date number reflected on a quarterly average basis\\n\\nOn January 1, 2016, the company revised its definition of purchases to include the\\nreinvestment of proceeds related to unplanned sale activity. New purchases include all purchases related to\\nfixed maturities and perpetuals, loan receivables, and equities. Securities lending/repurchase agreement\\nactivity and capital contributions to alternatives are excluded. The definition of new money yield has also\\nbeen revised to reflect this change. Yields for equities are based on the assumed dividend yield at the time of\\npurchase.\\n\\nThe increase in the Aflac Japan new money yield in 2017 was primarily due to increases in yen\\ninterest rates during much of the investment period as well as increased allocations to higher yielding asset\\nclasses.',\n",
       "  \"\\n\\nOff-Balance Sheet Arrangements\\n\\nAs of December 31, 2017,\\nthe Company had no material letters of credit, standby letters of credit, guarantees or standby repurchase\\nobligations. See Note 15 of the Notes to the Consolidated Financial Statements for information on material\\nunconditional purchase obligations that are not recorded on the Company's balance sheet.\\n\\nCAPITAL RESOURCES AND LIQUIDITY\\nAflac provides the primary sources of liquidity to the Parent Company through dividends and\\nmanagement fees. The following table presents the amounts provided for the years ended December 31.\\nLiquidity Provided by Aflac to Parent Company\",\n",
       "  \"\\n\\n\\n\\n\\n\\n\\n\\n\\n\\n\\n\\n\\n\\n\\n\\n\\n\\n\\n\\n\\n\\n\\n(In millions)\\n\\n\\n2017\\n\\n\\n \\n\\n\\n2016\\n\\n\\n \\n\\n\\n2015\\n\\n\\n \\n\\n\\n\\n\\nDividends declared or paid by Aflac\\n\\n\\n$\\n\\n\\n2,590\\n\\n\\n\\n\\n\\n(1) \\n\\n\\n$\\n\\n\\n2,000\\n\\n\\n\\n\\n\\n \\n\\n\\n$\\n\\n\\n2,393\\n\\n\\n\\n\\n\\n \\n\\n\\n\\n\\nManagement fees paid by Aflac\\n\\n\\n291\\n\\n\\n\\n\\n\\n \\n\\n\\n260\\n\\n\\n\\n\\n\\n \\n\\n\\n255\\n\\n\\n\\n\\n\\n \\n\\n\\n\\n\\n(1) Includes securities\\nof $622 at fair value which had a value of $656 at amortized cost\\n\\nThe primary uses of cash by the Parent Company are shareholder dividends, the repurchase of\\nits common stock and interest on its outstanding indebtedness and operating expenses. The Parent Company's\\nsources and uses of cash are reasonably predictable and are not expected to change materially in the future.\\nFor additional information, see the Financing Activities subsection of this MD&A.\",\n",
       "  \"\\n\\nThe Company's financial statements convey its financing arrangements during\\nthe periods presented. The Company has not engaged in material intra-period short-term financings during the\\nperiods presented that are not otherwise reported in its balance sheet or disclosed herein. The Company was in\\ncompliance with all of the covenants of its notes payable and lines of credit at December 31, 2017. The Company has not entered into transactions involving the\\ntransfer of financial assets with an obligation to repurchase financial assets that have been accounted for as\\na sale under applicable accounting standards, including securities lending transactions. See Notes 1, 3, and 4\\nof the Notes to the Consolidated Financial Statements for more information on the Company's securities lending\\nand derivative activities. With the exception of disclosed activities in those referenced footnotes, the\\nCompany does not have a known trend, demand, commitment, event or uncertainty that would reasonably result in\\nits liquidity increasing or decreasing by a material amount. The Company's cash and cash equivalents include\\nunrestricted cash on hand, money market instruments, and other debt instruments with a maturity of 90 days or\\nless when purchased, all of which has minimal market, settlement or other risk exposure.\",\n",
       "  \"\\n\\n\\n1,277\\n\\n\\n\\n\\n\\n \\n\\n\\n1,852\\n\\n\\n\\n\\n\\n \\n\\n\\n1,770\\n\\n\\n\\n\\n\\n \\n\\n\\n\\n\\n\\n69\\n\\n\\n\\n\\nUnder share repurchase authorizations from the Company's board of\\ndirectors, the Company purchased 17.8 million shares of its\\ncommon stock in the open market in 2017, compared with\\n21.6 million shares in 2016\\nand 21.2 million shares in\\n2015. In August 2017, Aflac's board of directors authorized the\\npurchase of an additional 40 million shares of its common stock. As of December 31,\\n2017, a remaining balance of 49.0 million shares of the Company's common stock was available for purchase under share repurchase authorizations by\\nits board of directors. The Company currently plans to purchase $1.1 billion\\nto $1.4 billion of its common stock\\nin 2018, assuming stable capital conditions and absent\\ncompelling alternatives. See Note 11 of the Notes to the Consolidated Financial Statements for additional\\ninformation.\\n\\nCash dividends paid to shareholders in 2017 of $1.74 per share\\nincreased 4.8% over 2016. The 2016 dividend paid\\nof $1.66 per share increased 5.1% over 2015. The following\\ntable presents the dividend activity for the years ended December 31.\\n\\n\\n\\n\\n\\n\\n\\n\\n\\n\\n\\n\\n\\n\\n\\n\\n\\n\\n\\n\\n\\n\\n(In millions)\\n\\n\\n2017\\n\\n\\n \\n\\n\\n2016\\n\\n\\n \\n\\n\\n2015\\n\\n\\n \\n\\n\\n\\n\\nDividends paid in cash\\n\\n\\n$\\n\\n\\n661\\n\\n\\n\\n\\n\\n \\n\\n\\n$\\n\\n\\n658\\n\\n\\n\\n\\n\\n \\n\\n\\n$\\n\\n\\n656\\n\\n\\n\\n\\n\\n \\n\\n\\n\\n\\nDividends through issuance of treasury shares\\n\\n\\n29\\n\\n\\n\\n\\n\\n \\n\\n\\n27\\n\\n\\n\\n\\n\\n \\n\\n\\n26\\n\\n\\n\\n\\n\\n \\n\\n\\n\\n\\nTotal dividends to shareholders\\n\\n\\n$\\n\\n\\n690\\n\\n\\n\\n\\n\\n \\n\\n\\n$\\n\\n\\n685\\n\\n\\n\\n\\n\\n \",\n",
       "  \"\\n\\nTransfers and Servicing - Repurchase-to-Maturity Transactions, Repurchase\\nFinancings, and Disclosures: In June 2014, the FASB issued updated guidance for\\nrepurchase agreement and security lending transactions to change the accounting for repurchase-to-maturity\\ntransactions and linked repurchase financings to be accounted for as secured borrowings, consistent with the\\naccounting for other repurchase agreements. The amendments also require new disclosures to increase\\ntransparency about the types of collateral pledged in repurchase agreements and similar transactions accounted\\nfor as secured borrowings. The Company adopted accounting changes for the new guidance as of January 1, 2015,\\nand adopted the required disclosures as of April 1, 2015. The adoption of this guidance did not have a\\nsignificant impact on the Company's financial position, results of operations, or disclosures.\",\n",
       "  \"\\n\\n\\n \\n\\n\\nUp to 30 days\\n\\n\\n \\n\\n\\n \\n\\n\\nTotal\\n\\n\\n\\n\\nSecurities lending transactions:\\n\\n\\n \\n\\n\\n \\n\\n\\n \\n\\n\\n \\n\\n\\n \\n\\n\\n \\n\\n\\n\\n\\nPublic utilities\\n\\n\\n$\\n\\n\\n62\\n\\n\\n\\n\\n\\n \\n\\n\\n$\\n\\n\\n0\\n\\n\\n\\n\\n\\n \\n\\n\\n \\n\\n\\n$\\n\\n\\n62\\n\\n\\n\\n\\n\\n\\n\\nBanks/financial institutions\\n\\n\\n34\\n\\n\\n\\n\\n\\n \\n\\n\\n0\\n\\n\\n\\n\\n\\n \\n\\n\\n \\n\\n\\n34\\n\\n\\n\\n\\n\\n\\n\\nOther corporate\\n\\n\\n430\\n\\n\\n\\n\\n\\n \\n\\n\\n0\\n\\n\\n\\n\\n\\n \\n\\n\\n \\n\\n\\n430\\n\\n\\n\\n\\n\\n\\n\\n          Total borrowings\\n\\n\\n$\\n\\n\\n526\\n\\n\\n\\n\\n\\n \\n\\n\\n$\\n\\n\\n0\\n\\n\\n\\n\\n\\n \\n\\n\\n \\n\\n\\n$\\n\\n\\n526\\n\\n\\n\\n\\n\\n\\n\\nGross amount of recognized liabilities for securities lending transactions\\n\\n\\n \\n\\n\\n$\\n\\n\\n526\\n\\n\\n\\n\\n\\n\\n\\nAmounts related to agreements not included in offsetting disclosure in Note 4\\n\\n\\n \\n\\n\\n$\\n\\n\\n0\\n\\n\\n\\n\\n\\n\\n\\n(1) These securities are\\npledged as collateral under the Company's U.S. securities lending program and can be called at its discretion;\\ntherefore, they are classified as Overnight and Continuous.\\n\\nThe Company did not have any repurchase agreements or\\nrepurchase-to-maturity transactions outstanding as of December 31, 2017\\nand 2016, respectively.\\n\\nCertain fixed-maturity securities can be pledged as collateral as part of derivative\\ntransactions, or pledged to support state deposit requirements on certain investment programs. For additional\\ninformation regarding pledged securities related to derivative transactions, see Note 4.\\n\\nAt December 31, 2017,\\ndebt securities with a fair value of $21 million were on\\ndeposit with regulatory authorities in the United States (including U.S. territories) and Japan. The Company\\nretains ownership of all securities on deposit and receives the related investment income.\",\n",
       "  \"\\n\\n\\n398,930\\n\\n\\n\\n\\n\\n \\n\\n\\n413,921\\n\\n\\n\\n\\n\\n \\n\\n\\n433,172\\n\\n\\n\\n\\n\\n\\n\\n\\nShare Repurchase Program: During\\n2017, the Company repurchased 17.8\\nmillion shares of its common stock in the open market, compared with\\n21.6 million shares in 2016\\nand 21.2 million shares in\\n2015. In August 2017, the Company's board of directors authorized\\nthe purchase of an additional 40 million shares of its common\\nstock. As of December 31, 2017, a remaining balance of\\n49.0 million shares of the Company's common stock was available for\\npurchase under share repurchase authorizations by its board of directors.\\n\\nVoting Rights: In accordance with the Parent\\nCompany's articles of incorporation, shares of common stock are generally entitled to one vote per share until they have been held by the same beneficial owner for a\\ncontinuous period of 48 months, at which time they become\\nentitled to 10 votes per share.\\nReclassifications from Accumulated Other Comprehensive Income\\nThe tables below are reconciliations of accumulated other comprehensive income by component\\nfor the years ended December 31.\\n\\n\\n154\\n\\n\\n\\nChanges in Accumulated Other Comprehensive Income\\n\\n\\n\\n\\n\\n\\n\\n\\n\\n\\n\\n\\n\\n\\n\\n\\n\\n\\n\\n\\n\\n\\n\\n\\n\\n\\n\\n\\n\\n\\n\\n\\n\\n\\n\\n\\n\\n\\n\\n\\n2017\\n\\n\\n\\n\\n(In millions)\\n\\n\\nUnrealized Foreign Currency Translation Gains (Losses)\\n\\n\\n \\n\\n\\nUnrealized Gains (Losses) on Investment Securities\\n\\n\\n \\n\\n\\nUnrealized Gains (Losses) on Derivatives\\n\\n\\n \\n\\n\\nPension Liability Adjustment\\n\\n\\n \\n\\n\\nTotal\\n\\n\\n\\n\\nBalance, beginning of period\\n\\n\\n \\n\\n\\n$\\n\\n\\n(1,983\\n\\n\\n)\\n\\n\\n \\n\\n\\n \\n\\n\\n \\n\\n\\n$\\n\\n\\n4,805\\n\\n\\n\\n\\n\\n \\n\\n\\n \\n\\n\\n \\n\\n\\n$\\n\\n\\n(24\\n\\n\\n)\\n\\n\\n \\n\\n\\n \\n\\n\\n \\n\\n\\n$\\n\\n\\n(168\\n\\n\\n)\\n\\n\\n \\n\\n\\n \\n\\n\\n \\n\\n\\n$\\n\\n\\n2,630\\n\\n\\n\\n\\n\\n \\n\\n\\n\\n\\nOther comprehensive income (loss) before reclassification\\n\\n\\n \\n\\n\\n233\"]]"
      ]
     },
     "execution_count": 33,
     "metadata": {},
     "output_type": "execute_result"
    }
   ],
   "source": [
    "p_list_final"
   ]
  }
 ],
 "metadata": {
  "kernelspec": {
   "display_name": "Python 3",
   "language": "python",
   "name": "python3"
  },
  "language_info": {
   "codemirror_mode": {
    "name": "ipython",
    "version": 3
   },
   "file_extension": ".py",
   "mimetype": "text/x-python",
   "name": "python",
   "nbconvert_exporter": "python",
   "pygments_lexer": "ipython3",
   "version": "3.6.2"
  }
 },
 "nbformat": 4,
 "nbformat_minor": 2
}
