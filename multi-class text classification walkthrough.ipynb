{
 "cells": [
  {
   "cell_type": "markdown",
   "metadata": {},
   "source": [
    "source for walkthrough: https://towardsdatascience.com/multi-class-text-classification-with-scikit-learn-12f1e60e0a9f\n",
    "\n",
    "download data: https://catalog.data.gov/dataset/consumer-complaint-database"
   ]
  },
  {
   "cell_type": "code",
   "execution_count": 2,
   "metadata": {},
   "outputs": [],
   "source": [
    "import pandas as pd"
   ]
  },
  {
   "cell_type": "code",
   "execution_count": 15,
   "metadata": {},
   "outputs": [
    {
     "data": {
      "text/html": [
       "<div>\n",
       "<style scoped>\n",
       "    .dataframe tbody tr th:only-of-type {\n",
       "        vertical-align: middle;\n",
       "    }\n",
       "\n",
       "    .dataframe tbody tr th {\n",
       "        vertical-align: top;\n",
       "    }\n",
       "\n",
       "    .dataframe thead th {\n",
       "        text-align: right;\n",
       "    }\n",
       "</style>\n",
       "<table border=\"1\" class=\"dataframe\">\n",
       "  <thead>\n",
       "    <tr style=\"text-align: right;\">\n",
       "      <th></th>\n",
       "      <th>Date received</th>\n",
       "      <th>Product</th>\n",
       "      <th>Sub-product</th>\n",
       "      <th>Issue</th>\n",
       "      <th>Sub-issue</th>\n",
       "      <th>Consumer complaint narrative</th>\n",
       "      <th>Company public response</th>\n",
       "      <th>Company</th>\n",
       "      <th>State</th>\n",
       "      <th>ZIP code</th>\n",
       "      <th>Tags</th>\n",
       "      <th>Consumer consent provided?</th>\n",
       "      <th>Submitted via</th>\n",
       "      <th>Date sent to company</th>\n",
       "      <th>Company response to consumer</th>\n",
       "      <th>Timely response?</th>\n",
       "      <th>Consumer disputed?</th>\n",
       "      <th>Complaint ID</th>\n",
       "    </tr>\n",
       "  </thead>\n",
       "  <tbody>\n",
       "    <tr>\n",
       "      <th>0</th>\n",
       "      <td>03/12/2014</td>\n",
       "      <td>Mortgage</td>\n",
       "      <td>Other mortgage</td>\n",
       "      <td>Loan modification,collection,foreclosure</td>\n",
       "      <td>NaN</td>\n",
       "      <td>NaN</td>\n",
       "      <td>NaN</td>\n",
       "      <td>M&amp;T BANK CORPORATION</td>\n",
       "      <td>MI</td>\n",
       "      <td>48382</td>\n",
       "      <td>NaN</td>\n",
       "      <td>NaN</td>\n",
       "      <td>Referral</td>\n",
       "      <td>03/17/2014</td>\n",
       "      <td>Closed with explanation</td>\n",
       "      <td>Yes</td>\n",
       "      <td>No</td>\n",
       "      <td>759217</td>\n",
       "    </tr>\n",
       "    <tr>\n",
       "      <th>1</th>\n",
       "      <td>10/01/2016</td>\n",
       "      <td>Credit reporting</td>\n",
       "      <td>NaN</td>\n",
       "      <td>Incorrect information on credit report</td>\n",
       "      <td>Account status</td>\n",
       "      <td>I have outdated information on my credit repor...</td>\n",
       "      <td>Company has responded to the consumer and the ...</td>\n",
       "      <td>TRANSUNION INTERMEDIATE HOLDINGS, INC.</td>\n",
       "      <td>AL</td>\n",
       "      <td>352XX</td>\n",
       "      <td>NaN</td>\n",
       "      <td>Consent provided</td>\n",
       "      <td>Web</td>\n",
       "      <td>10/05/2016</td>\n",
       "      <td>Closed with explanation</td>\n",
       "      <td>Yes</td>\n",
       "      <td>No</td>\n",
       "      <td>2141773</td>\n",
       "    </tr>\n",
       "    <tr>\n",
       "      <th>2</th>\n",
       "      <td>10/17/2016</td>\n",
       "      <td>Consumer Loan</td>\n",
       "      <td>Vehicle loan</td>\n",
       "      <td>Managing the loan or lease</td>\n",
       "      <td>NaN</td>\n",
       "      <td>I purchased a new car on XXXX XXXX. The car de...</td>\n",
       "      <td>NaN</td>\n",
       "      <td>CITIZENS FINANCIAL GROUP, INC.</td>\n",
       "      <td>PA</td>\n",
       "      <td>177XX</td>\n",
       "      <td>Older American</td>\n",
       "      <td>Consent provided</td>\n",
       "      <td>Web</td>\n",
       "      <td>10/20/2016</td>\n",
       "      <td>Closed with explanation</td>\n",
       "      <td>Yes</td>\n",
       "      <td>No</td>\n",
       "      <td>2163100</td>\n",
       "    </tr>\n",
       "    <tr>\n",
       "      <th>3</th>\n",
       "      <td>06/08/2014</td>\n",
       "      <td>Credit card</td>\n",
       "      <td>NaN</td>\n",
       "      <td>Bankruptcy</td>\n",
       "      <td>NaN</td>\n",
       "      <td>NaN</td>\n",
       "      <td>NaN</td>\n",
       "      <td>AMERICAN EXPRESS COMPANY</td>\n",
       "      <td>ID</td>\n",
       "      <td>83854</td>\n",
       "      <td>Older American</td>\n",
       "      <td>NaN</td>\n",
       "      <td>Web</td>\n",
       "      <td>06/10/2014</td>\n",
       "      <td>Closed with explanation</td>\n",
       "      <td>Yes</td>\n",
       "      <td>Yes</td>\n",
       "      <td>885638</td>\n",
       "    </tr>\n",
       "    <tr>\n",
       "      <th>4</th>\n",
       "      <td>09/13/2014</td>\n",
       "      <td>Debt collection</td>\n",
       "      <td>Credit card</td>\n",
       "      <td>Communication tactics</td>\n",
       "      <td>Frequent or repeated calls</td>\n",
       "      <td>NaN</td>\n",
       "      <td>NaN</td>\n",
       "      <td>CITIBANK, N.A.</td>\n",
       "      <td>VA</td>\n",
       "      <td>23233</td>\n",
       "      <td>NaN</td>\n",
       "      <td>NaN</td>\n",
       "      <td>Web</td>\n",
       "      <td>09/13/2014</td>\n",
       "      <td>Closed with explanation</td>\n",
       "      <td>Yes</td>\n",
       "      <td>Yes</td>\n",
       "      <td>1027760</td>\n",
       "    </tr>\n",
       "  </tbody>\n",
       "</table>\n",
       "</div>"
      ],
      "text/plain": [
       "  Date received           Product     Sub-product  \\\n",
       "0    03/12/2014          Mortgage  Other mortgage   \n",
       "1    10/01/2016  Credit reporting             NaN   \n",
       "2    10/17/2016     Consumer Loan    Vehicle loan   \n",
       "3    06/08/2014       Credit card             NaN   \n",
       "4    09/13/2014   Debt collection     Credit card   \n",
       "\n",
       "                                      Issue                   Sub-issue  \\\n",
       "0  Loan modification,collection,foreclosure                         NaN   \n",
       "1    Incorrect information on credit report              Account status   \n",
       "2                Managing the loan or lease                         NaN   \n",
       "3                                Bankruptcy                         NaN   \n",
       "4                     Communication tactics  Frequent or repeated calls   \n",
       "\n",
       "                        Consumer complaint narrative  \\\n",
       "0                                                NaN   \n",
       "1  I have outdated information on my credit repor...   \n",
       "2  I purchased a new car on XXXX XXXX. The car de...   \n",
       "3                                                NaN   \n",
       "4                                                NaN   \n",
       "\n",
       "                             Company public response  \\\n",
       "0                                                NaN   \n",
       "1  Company has responded to the consumer and the ...   \n",
       "2                                                NaN   \n",
       "3                                                NaN   \n",
       "4                                                NaN   \n",
       "\n",
       "                                  Company State ZIP code            Tags  \\\n",
       "0                    M&T BANK CORPORATION    MI    48382             NaN   \n",
       "1  TRANSUNION INTERMEDIATE HOLDINGS, INC.    AL    352XX             NaN   \n",
       "2          CITIZENS FINANCIAL GROUP, INC.    PA    177XX  Older American   \n",
       "3                AMERICAN EXPRESS COMPANY    ID    83854  Older American   \n",
       "4                          CITIBANK, N.A.    VA    23233             NaN   \n",
       "\n",
       "  Consumer consent provided? Submitted via Date sent to company  \\\n",
       "0                        NaN      Referral           03/17/2014   \n",
       "1           Consent provided           Web           10/05/2016   \n",
       "2           Consent provided           Web           10/20/2016   \n",
       "3                        NaN           Web           06/10/2014   \n",
       "4                        NaN           Web           09/13/2014   \n",
       "\n",
       "  Company response to consumer Timely response? Consumer disputed?  \\\n",
       "0      Closed with explanation              Yes                 No   \n",
       "1      Closed with explanation              Yes                 No   \n",
       "2      Closed with explanation              Yes                 No   \n",
       "3      Closed with explanation              Yes                Yes   \n",
       "4      Closed with explanation              Yes                Yes   \n",
       "\n",
       "   Complaint ID  \n",
       "0        759217  \n",
       "1       2141773  \n",
       "2       2163100  \n",
       "3        885638  \n",
       "4       1027760  "
      ]
     },
     "execution_count": 15,
     "metadata": {},
     "output_type": "execute_result"
    }
   ],
   "source": [
    "df = pd.read_csv('data/Consumer_Complaints.csv')\n",
    "df = df.head(18000)\n",
    "df.head()"
   ]
  },
  {
   "cell_type": "code",
   "execution_count": 16,
   "metadata": {},
   "outputs": [
    {
     "data": {
      "text/html": [
       "<div>\n",
       "<style scoped>\n",
       "    .dataframe tbody tr th:only-of-type {\n",
       "        vertical-align: middle;\n",
       "    }\n",
       "\n",
       "    .dataframe tbody tr th {\n",
       "        vertical-align: top;\n",
       "    }\n",
       "\n",
       "    .dataframe thead th {\n",
       "        text-align: right;\n",
       "    }\n",
       "</style>\n",
       "<table border=\"1\" class=\"dataframe\">\n",
       "  <thead>\n",
       "    <tr style=\"text-align: right;\">\n",
       "      <th></th>\n",
       "      <th>Product</th>\n",
       "      <th>Consumer_complaint_narrative</th>\n",
       "      <th>category_id</th>\n",
       "    </tr>\n",
       "  </thead>\n",
       "  <tbody>\n",
       "    <tr>\n",
       "      <th>1</th>\n",
       "      <td>Credit reporting</td>\n",
       "      <td>I have outdated information on my credit repor...</td>\n",
       "      <td>0</td>\n",
       "    </tr>\n",
       "    <tr>\n",
       "      <th>2</th>\n",
       "      <td>Consumer Loan</td>\n",
       "      <td>I purchased a new car on XXXX XXXX. The car de...</td>\n",
       "      <td>1</td>\n",
       "    </tr>\n",
       "    <tr>\n",
       "      <th>7</th>\n",
       "      <td>Credit reporting</td>\n",
       "      <td>An account on my credit report has a mistaken ...</td>\n",
       "      <td>0</td>\n",
       "    </tr>\n",
       "    <tr>\n",
       "      <th>12</th>\n",
       "      <td>Debt collection</td>\n",
       "      <td>This company refuses to provide me verificatio...</td>\n",
       "      <td>2</td>\n",
       "    </tr>\n",
       "    <tr>\n",
       "      <th>16</th>\n",
       "      <td>Debt collection</td>\n",
       "      <td>This complaint is in regards to Square Two Fin...</td>\n",
       "      <td>2</td>\n",
       "    </tr>\n",
       "  </tbody>\n",
       "</table>\n",
       "</div>"
      ],
      "text/plain": [
       "             Product                       Consumer_complaint_narrative  \\\n",
       "1   Credit reporting  I have outdated information on my credit repor...   \n",
       "2      Consumer Loan  I purchased a new car on XXXX XXXX. The car de...   \n",
       "7   Credit reporting  An account on my credit report has a mistaken ...   \n",
       "12   Debt collection  This company refuses to provide me verificatio...   \n",
       "16   Debt collection  This complaint is in regards to Square Two Fin...   \n",
       "\n",
       "    category_id  \n",
       "1             0  \n",
       "2             1  \n",
       "7             0  \n",
       "12            2  \n",
       "16            2  "
      ]
     },
     "execution_count": 16,
     "metadata": {},
     "output_type": "execute_result"
    }
   ],
   "source": [
    "from io import StringIO\n",
    "col = ['Product', 'Consumer complaint narrative']\n",
    "df = df[col]\n",
    "df = df[pd.notnull(df['Consumer complaint narrative'])]\n",
    "df.columns = ['Product', 'Consumer_complaint_narrative']\n",
    "df['category_id'] = df['Product'].factorize()[0]\n",
    "category_id_df = df[['Product', 'category_id']].drop_duplicates().sort_values('category_id')\n",
    "category_to_id = dict(category_id_df.values)\n",
    "id_to_category = dict(category_id_df[['category_id', 'Product']].values)\n",
    "df.head()"
   ]
  },
  {
   "cell_type": "code",
   "execution_count": 17,
   "metadata": {},
   "outputs": [
    {
     "data": {
      "text/plain": [
       "(3797, 10626)"
      ]
     },
     "execution_count": 17,
     "metadata": {},
     "output_type": "execute_result"
    }
   ],
   "source": [
    "from sklearn.feature_extraction.text import TfidfVectorizer\n",
    "tfidf = TfidfVectorizer(sublinear_tf=True, min_df=5, norm='l2', encoding='latin-1', ngram_range=(1, 2), stop_words='english')\n",
    "features = tfidf.fit_transform(df.Consumer_complaint_narrative).toarray()\n",
    "labels = df.category_id\n",
    "features.shape"
   ]
  },
  {
   "cell_type": "code",
   "execution_count": 18,
   "metadata": {},
   "outputs": [
    {
     "name": "stdout",
     "output_type": "stream",
     "text": [
      "# 'Bank account or service':\n",
      "  . Most correlated unigrams:\n",
      ". overdraft\n",
      ". checking\n",
      "  . Most correlated bigrams:\n",
      ". overdraft fees\n",
      ". checking account\n",
      "# 'Checking or savings account':\n",
      "  . Most correlated unigrams:\n",
      ". pdf\n",
      ". limitation\n",
      "  . Most correlated bigrams:\n",
      ". called citibank\n",
      ". deposited xxxx\n",
      "# 'Consumer Loan':\n",
      "  . Most correlated unigrams:\n",
      ". car\n",
      ". vehicle\n",
      "  . Most correlated bigrams:\n",
      ". vehicle xxxx\n",
      ". xxxx vehicle\n",
      "# 'Credit card':\n",
      "  . Most correlated unigrams:\n",
      ". citi\n",
      ". card\n",
      "  . Most correlated bigrams:\n",
      ". american express\n",
      ". credit card\n",
      "# 'Credit card or prepaid card':\n",
      "  . Most correlated unigrams:\n",
      ". 2018\n",
      ". gift\n",
      "  . Most correlated bigrams:\n",
      ". xxxx cents\n",
      ". xx 2018\n",
      "# 'Credit reporting':\n",
      "  . Most correlated unigrams:\n",
      ". experian\n",
      ". equifax\n",
      "  . Most correlated bigrams:\n",
      ". verify accounts\n",
      ". credit report\n",
      "# 'Credit reporting, credit repair services, or other personal consumer reports':\n",
      "  . Most correlated unigrams:\n",
      ". plate\n",
      ". didn\n",
      "  . Most correlated bigrams:\n",
      ". consumer report\n",
      ". valid xxxx\n",
      "# 'Debt collection':\n",
      "  . Most correlated unigrams:\n",
      ". collection\n",
      ". debt\n",
      "  . Most correlated bigrams:\n",
      ". collect debt\n",
      ". collection agency\n",
      "# 'Money transfer, virtual currency, or money service':\n",
      "  . Most correlated unigrams:\n",
      ". usps\n",
      ". orders\n",
      "  . Most correlated bigrams:\n",
      ". days sent\n",
      ". money orders\n",
      "# 'Money transfers':\n",
      "  . Most correlated unigrams:\n",
      ". western\n",
      ". paypal\n",
      "  . Most correlated bigrams:\n",
      ". money transfer\n",
      ". western union\n",
      "# 'Mortgage':\n",
      "  . Most correlated unigrams:\n",
      ". modification\n",
      ". mortgage\n",
      "  . Most correlated bigrams:\n",
      ". mortgage company\n",
      ". loan modification\n",
      "# 'Other financial service':\n",
      "  . Most correlated unigrams:\n",
      ". contracted\n",
      ". dental\n",
      "  . Most correlated bigrams:\n",
      ". help pay\n",
      ". stated pay\n",
      "# 'Payday loan':\n",
      "  . Most correlated unigrams:\n",
      ". borrowed\n",
      ". payday\n",
      "  . Most correlated bigrams:\n",
      ". finance charge\n",
      ". payday loan\n",
      "# 'Prepaid card':\n",
      "  . Most correlated unigrams:\n",
      ". serve\n",
      ". prepaid\n",
      "  . Most correlated bigrams:\n",
      ". provisional credit\n",
      ". prepaid card\n",
      "# 'Student loan':\n",
      "  . Most correlated unigrams:\n",
      ". student\n",
      ". navient\n",
      "  . Most correlated bigrams:\n",
      ". student loans\n",
      ". student loan\n",
      "# 'Vehicle loan or lease':\n",
      "  . Most correlated unigrams:\n",
      ". dealership\n",
      ". tied\n",
      "  . Most correlated bigrams:\n",
      ". paid payment\n",
      ". receive check\n",
      "# 'Virtual currency':\n",
      "  . Most correlated unigrams:\n",
      ". article\n",
      ". handles\n",
      "  . Most correlated bigrams:\n",
      ". think xxxx\n",
      ". hi xxxx\n"
     ]
    }
   ],
   "source": [
    "from sklearn.feature_selection import chi2\n",
    "import numpy as np\n",
    "N = 2\n",
    "for Product, category_id in sorted(category_to_id.items()):\n",
    "    features_chi2 = chi2(features, labels == category_id)\n",
    "    indices = np.argsort(features_chi2[0])\n",
    "    feature_names = np.array(tfidf.get_feature_names())[indices]\n",
    "    unigrams = [v for v in feature_names if len(v.split(' ')) == 1]\n",
    "    bigrams = [v for v in feature_names if len(v.split(' ')) == 2]\n",
    "    print(\"# '{}':\".format(Product))\n",
    "    print(\"  . Most correlated unigrams:\\n. {}\".format('\\n. '.join(unigrams[-N:])))\n",
    "    print(\"  . Most correlated bigrams:\\n. {}\".format('\\n. '.join(bigrams[-N:])))"
   ]
  },
  {
   "cell_type": "markdown",
   "metadata": {},
   "source": [
    "# a little work to remove newlines from scraped text"
   ]
  },
  {
   "cell_type": "code",
   "execution_count": 19,
   "metadata": {},
   "outputs": [],
   "source": [
    "paragraphs_jc = [[\"\\n\\n\\n\\n \\n\\n\\n139.84\\n\\n\\n\\n\\n\\n \\n\\n\\n.86\\n\\n\\n\\n\\n\\n\\n\\n \\n\\n\\n \\n\\n\\n \\n\\n\\n \\n\\n\\n \\n\\n\\n \\n\\n\\n \\n\\n\\n \\n\\n\\n$\\n\\n\\n3.39\\n\\n\\n\\n\\n\\n\\n\\nPurchases of Equity Securities by the Issuer\\nOn 15 September 2011, the Board of Directors authorized the repurchase of up\\nto $1.0 billion of our outstanding common stock. This program\\ndoes not have a stated expiration date. We repurchase shares pursuant to Rules 10b5-1 and 10b-18 under the\\nSecurities Exchange Act of 1934, as amended, through repurchase agreements established with several brokers.\\nThere were no purchases of stock during fiscal year 2017.\\nAt 30 September 2017, $485.3\\nmillion in share repurchase authorization remained. Additional purchases will be\\ncompleted at the Company's discretion while maintaining sufficient funds for investing in its businesses and\\ngrowth opportunities.\\n15\",\n",
    "  '\\n\\nTable of Contents\\nFinancing and Capital Structure\\nCapital needs in 2017 were\\nsatisfied primarily with cash from operations. At the end of 2017, total debt outstanding was $3,962.8 compared\\nto $5,210.9 at the end of 2016, and cash and cash items were $3,273.6\\ncompared to $1,293.2 at the end of\\n2016.\\nOn 31 March 2017, we entered into a five-year $2,500.0 revolving credit\\nagreement with a syndicate of banks (the \"2017 Credit Agreement\"), under which senior unsecured debt is\\navailable to both the Company and certain of its subsidiaries. The 2017 Credit Agreement provides a source of\\nliquidity for the Company and supports its commercial paper program. The Company\\'s only financial covenant is a\\nmaximum ratio of total debt to total capitalization (total debt plus total equity) no greater than 70%. Total\\ndebt at 30 September 2017 and 2016, expressed as a percentage of total capitalization (total debt plus total\\nequity), was 28.0% and 41.9%, respectively. No borrowings were outstanding under the 2017 Credit\\nAgreement as of 30 September 2017.\\nThe 2017 Credit Agreement terminates and replaces our previous $2,690.0 revolving credit\\nagreement (the \"2013 Credit Agreement\"), which was to mature 30 April 2018. No borrowings were outstanding\\nunder the previous agreement at the time of its termination, and no early termination penalties were\\nincurred.\\nCommitments totaling $23.4 are maintained by our foreign subsidiaries, all of which was borrowed and outstanding at\\n30 September 2017.\\nAs of 30 September 2017,\\nwe are in compliance with all of the financial and other covenants under our debt agreements.\\nOn 15 September 2011, the Board of Directors authorized the repurchase of up\\nto $1,000 of our outstanding common stock. We did not\\npurchase any of our outstanding shares during fiscal years 2017, 2016 or 2015. At 30 September 2017, $485.3 in share repurchase authorization remains.\\n2018 Outlook\\nCash flows from operations and financing activities are expected to meet\\nliquidity needs for the foreseeable future and our working capital balance was $3,387.7 at 30 September 2017.\\nWe expect that we will continue to be in compliance with all of our financial covenants.\\nOn 16 October 2017, we repaid a 1.2% Senior Note of $400 that matured on 15 October 2017. As\\nof 30 September 2017, this note was reflected in current portion of long-term debt on the consolidated balance\\nsheets.\\nDividends\\nDividends are declared by the Board of Directors and are usually paid during\\nthe sixth week after the close of the fiscal quarter. During 2017, the Board of Directors increased the quarterly dividend from $.86 per share to $.95 per\\nshare.',\n",
    "  \"\\n\\nTable of Contents\\nThe unconditional purchase obligations also include other product supply and purchase\\ncommitments and electric power and natural gas supply purchase obligations, which are primarily pass-through\\ncontracts with our customers.\\nPurchase commitments to spend approximately $300 for additional plant and equipment are included in the unconditional\\npurchase obligations in 2018. In addition, we have purchase\\ncommitments totaling approximately $180 in\\n2018 relating to our long-term sale of equipment project for Saudi\\nAramco's Jazan oil refinery.\\n\\n\\n18. CAPITAL STOCK\\nCommon Stock\\nAuthorized common stock consists of 300\\nmillion shares with a par value of $1 per share. As of 30 September 2017, 249 million shares were issued, with 218 million\\noutstanding.\\nOn 15 September 2011, the Board of Directors authorized the repurchase of up\\nto $1,000 of our outstanding common stock. We repurchase\\nshares pursuant to Rules 10b5-1 and 10b-18 under the Securities Exchange Act of 1934, as amended, through\\nrepurchase agreements established with several brokers. We did not purchase any of our outstanding shares\\nduring fiscal year 2017. At 30 September 2017,\\n$485.3 in share repurchase authorization remains.\\nThe following table reflects the changes in common shares:\"],\n",
    " ['\\n\\nAs a holding company, the Parent Company depends on the ability of its subsidiaries to\\ntransfer funds to it to meet its debt service and other obligations and to pay dividends on its common\\nstock.\\nThe Parent Company is a holding company and has no direct operations, and its most significant\\nassets are the stock of its subsidiaries. Because the Parent Company conducts its operations through its\\noperating subsidiaries, the Parent Company depends on those entities for dividends and other payments to\\ngenerate the funds necessary to meet its debt service and other obligations, and to pay dividends on and\\nconduct repurchases of its common stock.',\n",
    "  \"\\n\\n\\n32\\n\\n\\n\\nStock Performance Graph\\nThe following graph compares the five-year performance of the Company's common stock to the\\nStandard & Poor's 500 Index (S&P 500) and the Standard & Poor's Life and Health Insurance Index\\n(S&P Life and Health). The Standard & Poor's Life and Health Insurance Index includes: Aflac\\nIncorporated, Brighthouse Financial Inc., Lincoln National Corporation, MetLife Inc., Principal Financial Group\\nInc., Prudential Financial Inc., Torchmark Corporation and Unum Group.\\n \\n\\nPerformance Graphic Index\\nDecember 31,\\n\\n\\n\\n\\n\\n\\n\\n\\n\\n\\n\\n\\n\\n\\n\\n\\n\\n\\n\\n\\n\\n\\n\\n\\n\\n\\n\\n \\n\\n\\n2012\\n\\n\\n\\n\\n\\n \\n\\n\\n2013\\n\\n\\n\\n\\n\\n \\n\\n\\n2014\\n\\n\\n\\n\\n\\n \\n\\n\\n2015\\n\\n\\n\\n\\n\\n \\n\\n\\n2016\\n\\n\\n\\n\\n\\n \\n\\n\\n2017\\n\\n\\n\\n\\n\\n\\n\\nAflac Incorporated\\n\\n\\n100.00\\n\\n\\n\\n\\n\\n \\n\\n\\n128.91\\n\\n\\n\\n\\n\\n \\n\\n\\n120.81\\n\\n\\n\\n\\n\\n \\n\\n\\n121.44\\n\\n\\n\\n\\n\\n \\n\\n\\n144.65\\n\\n\\n\\n\\n\\n \\n\\n\\n186.59\\n\\n\\n\\n\\n\\n\\n\\nS&P 500\\n\\n\\n100.00\\n\\n\\n\\n\\n\\n \\n\\n\\n132.39\\n\\n\\n\\n\\n\\n \\n\\n\\n150.51\\n\\n\\n\\n\\n\\n \\n\\n\\n152.59\\n\\n\\n\\n\\n\\n \\n\\n\\n170.84\\n\\n\\n\\n\\n\\n \\n\\n\\n208.14\\n\\n\\n\\n\\n\\n\\n\\nS&P Life & Health Insurance\\n\\n\\n100.00\\n\\n\\n\\n\\n\\n \\n\\n\\n163.48\\n\\n\\n\\n\\n\\n \\n\\n\\n166.66\\n\\n\\n\\n\\n\\n \\n\\n\\n156.14\\n\\n\\n\\n\\n\\n \\n\\n\\n194.96\\n\\n\\n\\n\\n\\n \\n\\n\\n226.98\\n\\n\\n\\n\\n\\n\\n\\nCopyright©\\n2018 Standard & Poor's, a division of S&P Global. All rights reserved.\\n\\n33\\n\\n\\n\\nIssuer Purchases of Equity Securities\\nDuring the year ended December 31,\\n2017, we repurchased shares of Aflac common stock as follows:\\n\\n\\n\\n\\n\\n\\n\\n\\n\\n\\n\\n\\n\\n\\n\\n\\n\\n\\n\\n\\n\\n\\n\\n\\n\\n\\n\\n\\n\\n\\n\\nPeriod\\n\\n\\nTotal Number of Shares Purchased\\n\\n\\n \\n\\n\\nAverage Price Paid Per Share\\n\\n\\n \\n\\n\\nTotal Number of Shares Purchased as Part of Publicly Announced Plans or Programs\\n\\n\\n \\n\\n\\nMaximum     Number of     Shares that     May Yet Be     Purchased     Under the     Plans or\\n    Programs    \\n\\n\\n \\n\\n\\n\\n\\nJanuary 1 - January 31\\n\\n\\n \\n\\n\\n3,819,299\\n\\n\\n\\n\\n\\n \\n\\n\\n \\n\\n\\n \\n\\n\\n$\\n\\n\\n69.94\\n\\n\\n\\n\\n\\n \\n\\n\\n \\n\\n\\n \\n\\n\\n3,819,299\\n\\n\\n\\n\\n\\n \\n\\n\\n \\n\\n\\n \\n\\n\\n22,934,155\\n\\n\\n\\n\\n\\n \\n\\n\\n \\n\\n\\n\\n\\nFebruary 1 - February 28\\n\\n\\n \\n\\n\\n1,988,420\\n\\n\\n\\n\\n\\n \\n\\n\\n \\n\\n\\n \\n\\n\\n70.03\\n\\n\\n\\n\\n\\n \\n\\n\\n \\n\\n\\n \\n\\n\\n1,853,000\\n\\n\\n\\n\\n\\n \\n\\n\\n \\n\\n\\n \\n\\n\\n21,081,155\\n\\n\\n\\n\\n\\n \\n\\n\\n \\n\\n\\n\\n\\nMarch 1 - March 31\\n\\n\\n \\n\\n\\n2,825,614\\n\\n\\n\\n\\n\\n \\n\\n\\n \\n\\n\\n \\n\\n\\n72.12\\n\\n\\n\\n\\n\\n \\n\\n\\n \\n\\n\\n \\n\\n\\n2,821,009\\n\\n\\n\\n\\n\\n \\n\\n\\n \\n\\n\\n \\n\\n\\n18,260,146\\n\\n\\n\\n\\n\\n \\n\\n\\n \\n\\n\\n\\n\\nApril 1 - April 30\\n\\n\\n \\n\\n\\n1,764,523\\n\\n\\n\\n\\n\\n \\n\\n\\n \\n\\n\\n \\n\\n\\n73.70\\n\\n\\n\\n\\n\\n \\n\\n\\n \\n\\n\\n \\n\\n\\n1,764,523\\n\\n\\n\\n\\n\\n \\n\\n\\n \\n\\n\\n \\n\\n\\n16,495,623\\n\\n\\n\\n\\n\\n \\n\\n\\n \\n\\n\\n\\n\\nMay 1 - May 31\\n\\n\\n \\n\\n\\n501\\n\\n\\n\\n\\n\\n \\n\\n\\n \\n\\n\\n \\n\\n\\n74.84\\n\\n\\n\\n\\n\\n \\n\\n\\n \\n\\n\\n \\n\\n\\n0\\n\\n\\n\\n\\n\\n \\n\\n\\n \\n\\n\\n \\n\\n\\n16,495,623\\n\\n\\n\\n\\n\\n \\n\\n\\n \\n\\n\\n\\n\\nJune 1  - June 30\\n\\n\\n \\n\\n\\n902,308\\n\\n\\n\\n\\n\\n \\n\\n\\n \\n\\n\\n \\n\\n\\n78.08\\n\\n\\n\\n\\n\\n \\n\\n\\n \\n\\n\\n \\n\\n\\n896,795\\n\\n\\n\\n\\n\\n \\n\\n\\n \\n\\n\\n \\n\\n\\n15,598,828\\n\\n\\n\\n\\n\\n \\n\\n\\n \\n\\n\\n\\n\\nJuly 1 - July 31\\n\\n\\n \\n\\n\\n1,066,100\\n\\n\\n\\n\\n\\n \\n\\n\\n \\n\\n\\n \\n\\n\\n77.88\\n\\n\\n\\n\\n\\n \\n\\n\\n \\n\\n\\n \\n\\n\\n1,066,100\\n\\n\\n\\n\\n\\n \\n\\n\\n \\n\\n\\n \\n\\n\\n14,532,728\\n\\n\\n\\n\\n\\n \\n\\n\\n \\n\\n\\n\\n\\nAugust 1 - August 31\\n\\n\\n \\n\\n\\n1,356,142\\n\\n\",\n",
    "  '\\n\\n\\n\\n\\n\\n \\n\\n\\n(1) \\n\\n\\n\\n\\n(1)The total remaining\\nshares available for purchase at December 31, 2017,\\nconsisted of 8,998,386 shares related to a 40,000,000 share\\nrepurchase authorization by the board of directors in 2015 and 40,000,000 shares related to a 40,000,000 share\\nrepurchase authorization by the board of directors announced in August 2017.\\n(2)During the year\\nended December 31, 2017, 156,456 shares were purchased in connection with income tax withholding\\nobligations related to the vesting of restricted-share-based awards during the period.\\n\\n\\n34\\n\\n\\n\\n\\nITEM 6.     SELECTED FINANCIAL DATA\\n\\nAflac Incorporated and Subsidiaries\\nYears Ended December 31,\\n \\n\\n\\n\\n\\n\\n\\n\\n\\n\\n\\n\\n\\n\\n\\n\\n\\n\\n\\n\\n\\n\\n\\n\\n\\n\\n\\n\\n\\n\\n(In millions, except for share and per-share amounts)\\n\\n\\n2017\\n\\n\\n \\n\\n\\n2016\\n\\n\\n \\n\\n\\n2015\\n\\n\\n \\n\\n\\n2014\\n\\n\\n \\n\\n\\n2013\\n\\n\\n\\n\\nRevenues:\\n\\n\\n \\n\\n\\n \\n\\n\\n \\n\\n\\n \\n\\n\\n \\n\\n\\n \\n\\n\\n \\n\\n\\n \\n\\n\\n \\n\\n\\n\\n\\nNet premiums, principally supplemental health insurance\\n\\n\\n$\\n\\n\\n18,531\\n\\n\\n\\n\\n\\n \\n\\n\\n$\\n\\n\\n19,225\\n\\n\\n\\n\\n\\n \\n\\n\\n$\\n\\n\\n17,570\\n\\n\\n\\n\\n\\n \\n\\n\\n$\\n\\n\\n19,072\\n\\n\\n\\n\\n\\n \\n\\n\\n$\\n\\n\\n20,135\\n\\n\\n\\n\\n\\n\\n\\nNet investment income\\n\\n\\n3,220\\n\\n\\n\\n\\n\\n \\n\\n\\n3,278\\n\\n\\n\\n\\n\\n \\n\\n\\n3,135\\n\\n\\n\\n\\n\\n \\n\\n\\n3,319\\n\\n\\n\\n\\n\\n \\n\\n\\n3,293\\n\\n\\n\\n\\n\\n\\n\\nRealized investment gains (losses)\\n\\n\\n(151\\n\\n\\n)\\n\\n\\n \\n\\n\\n(14\\n\\n\\n)\\n\\n\\n \\n\\n\\n106\\n\\n\\n\\n\\n\\n \\n\\n\\n282\\n\\n\\n\\n\\n\\n \\n\\n\\n426\\n\\n\\n\\n\\n\\n\\n\\nOther income\\n\\n\\n67\\n\\n\\n\\n\\n\\n \\n\\n\\n70\\n\\n\\n\\n\\n\\n \\n\\n\\n61\\n\\n\\n\\n\\n\\n \\n\\n\\n55\\n\\n\\n\\n\\n\\n \\n\\n\\n85\\n\\n\\n\\n\\n\\n\\n\\nTotal revenues\\n\\n\\n21,667\\n\\n\\n\\n\\n\\n \\n\\n\\n22,559\\n\\n\\n\\n\\n\\n \\n\\n\\n20,872\\n\\n\\n\\n\\n\\n \\n\\n\\n22,728\\n\\n\\n\\n\\n\\n \\n\\n\\n23,939\\n\\n\\n\\n\\n\\n\\n\\nBenefits and expenses:\\n\\n\\n \\n\\n\\n \\n\\n\\n \\n\\n\\n \\n\\n\\n \\n\\n\\n \\n\\n\\n \\n\\n\\n \\n\\n\\n \\n\\n\\n\\n\\nBenefits and claims, net\\n\\n\\n12,181\\n\\n\\n\\n\\n\\n \\n\\n\\n12,919\\n\\n\\n\\n\\n\\n \\n\\n\\n11,746\\n\\n\\n\\n\\n\\n \\n\\n\\n12,937\\n\\n\\n\\n\\n\\n \\n\\n\\n13,813\\n\\n\\n\\n\\n\\n\\n\\nExpenses\\n\\n\\n5,468\\n\\n\\n\\n\\n\\n \\n\\n\\n5,573\\n\\n\\n\\n\\n\\n \\n\\n\\n5,264\\n\\n\\n\\n\\n\\n \\n\\n\\n5,300\\n\\n\\n\\n\\n\\n \\n\\n\\n5,310\\n\\n\\n\\n\\n\\n\\n\\nTotal benefits and expenses\\n\\n\\n17,649\\n\\n\\n\\n\\n\\n \\n\\n\\n18,492\\n\\n\\n\\n\\n\\n \\n\\n\\n17,010\\n\\n\\n\\n\\n\\n \\n\\n\\n18,237\\n\\n\\n\\n\\n\\n \\n\\n\\n19,123\\n\\n\\n\\n\\n\\n\\n\\nPretax earnings\\n\\n\\n4,018\\n\\n\\n\\n\\n\\n \\n\\n\\n4,067\\n\\n\\n\\n\\n\\n \\n\\n\\n3,862\\n\\n\\n\\n\\n\\n \\n\\n\\n4,491\\n\\n\\n\\n\\n\\n \\n\\n\\n4,816\\n\\n\\n\\n\\n\\n\\n\\nIncome taxes\\n\\n\\n(586\\n\\n\\n)\\n\\n\\n \\n\\n\\n1,408\\n\\n\\n\\n\\n\\n \\n\\n\\n1,329\\n\\n\\n\\n\\n\\n \\n\\n\\n1,540\\n\\n\\n\\n\\n\\n \\n\\n\\n1,658\\n\\n\\n\\n\\n\\n\\n\\nNet earnings\\n\\n\\n$\\n\\n\\n4,604\\n\\n\\n\\n\\n\\n \\n\\n\\n$\\n\\n\\n2,659\\n\\n\\n\\n\\n\\n \\n\\n\\n$\\n\\n\\n2,533\\n\\n\\n\\n\\n\\n \\n\\n\\n$\\n\\n\\n2,951\\n\\n\\n\\n\\n\\n \\n\\n\\n$\\n\\n\\n3,158\\n\\n\\n\\n\\n\\n\\n\\nShare and Per-Share Amounts\\n\\n\\n \\n\\n\\n \\n\\n\\n \\n\\n\\n \\n\\n\\n \\n\\n\\n \\n\\n\\n \\n\\n\\n \\n\\n\\n \\n\\n\\n\\n\\nNet earnings (basic)\\n\\n\\n$\\n\\n\\n11.63\\n\\n\\n\\n\\n\\n \\n\\n\\n$\\n\\n\\n6.46\\n\\n\\n\\n\\n\\n \\n\\n\\n$\\n\\n\\n5.88\\n\\n\\n\\n\\n\\n \\n\\n\\n$\\n\\n\\n6.54\\n\\n\\n\\n\\n\\n \\n\\n\\n$\\n\\n\\n6.80\\n\\n\\n\\n\\n\\n\\n\\nNet earnings (diluted)\\n\\n\\n11.54\\n\\n\\n\\n\\n\\n \\n\\n\\n6.42\\n\\n\\n\\n\\n\\n \\n\\n\\n5.85\\n\\n\\n\\n\\n\\n \\n\\n\\n6.50\\n\\n\\n\\n\\n\\n \\n\\n\\n6.76\\n\\n\\n\\n\\n\\n\\n\\nCash dividends paid\\n\\n\\n1.74\\n\\n\\n\\n\\n\\n \\n\\n\\n1.66\\n\\n\\n\\n\\n\\n \\n\\n\\n1.58\\n\\n\\n\\n\\n\\n \\n\\n\\n1.50\\n\\n\\n\\n\\n\\n \\n\\n\\n1.42\\n\\n\\n\\n\\n\\n\\n\\nCash dividends declared\\n\\n\\n1.74\\n\\n\\n\\n\\n\\n \\n\\n\\n1.66\\n\\n\\n\\n\\n\\n \\n\\n\\n1.58\\n\\n\\n\\n\\n\\n \\n\\n\\n1.50\\n\\n\\n\\n\\n\\n \\n\\n\\n1.42\\n\\n\\n\\n\\n\\n\\n\\nWeighted-average common shares used for basic EPS (In thousands)\\n\\n\\n396,021\\n\\n\\n\\n\\n\\n \\n\\n\\n411,471\\n\\n\\n\\n\\n\\n ',\n",
    "  \"\\n\\nThe Company repurchased 17.8 million shares of its common stock in the open market for $1.35 billion\\nunder the Company's share repurchase program in 2017, compared with the repurchase of 21.6\\nmillion shares for $1.4 billion in 2016.\\n\\n\\nCRITICAL ACCOUNTING ESTIMATES\\n\\nThe Company prepares its financial statements in accordance with U.S.\\ngenerally accepted accounting principles (GAAP). These principles are established primarily by the Financial\\nAccounting Standards Board (FASB). In this MD&A, references to U.S. GAAP issued by the FASB are derived\\nfrom the FASB Accounting Standards CodificationTM\\n(ASC). The preparation of financial statements in conformity with U.S. GAAP requires the\\nCompany to make estimates based on currently available information when recording transactions resulting from\\nbusiness operations. The estimates that the Company deems to be most critical to an understanding of Aflac's\\nresults of operations and financial condition are those related to the valuation of investments and\\nderivatives, deferred policy acquisition costs (DAC), liabilities for future policy benefits and unpaid policy\\nclaims, and income taxes. The preparation and evaluation of these critical accounting estimates involve the use\\nof various assumptions developed from management's analyses and judgments. The application of these critical\\naccounting estimates determines the values at which 95% of\\nthe Company's assets and 81% of its liabilities are reported\\nas of December 31, 2017, and thus has a direct effect on net\\nearnings and shareholders' equity. Subsequent experience or use of other assumptions could produce\\nsignificantly different results.\",\n",
    "  '\\n\\n\\n \\n\\n\\n2.62\\n\\n\\n%\\n\\n\\n \\n\\n\\n2.80\\n\\n\\n%\\n\\n\\n\\n\\n(1) Includes fixed\\nmaturities and perpetual securities, loan receivables, equities, and excludes alternative investments in\\nlimited partnerships\\n(2) Reported on a gross\\nyield basis; excludes investment expenses, external management fees, and amortized hedge costs\\n(3) Net of investment\\nexpenses and amortized hedge costs, year-to-date number reflected on a quarterly average basis\\n\\nOn January 1, 2016, the company revised its definition of purchases to include the\\nreinvestment of proceeds related to unplanned sale activity. New purchases include all purchases related to\\nfixed maturities and perpetuals, loan receivables, and equities. Securities lending/repurchase agreement\\nactivity and capital contributions to alternatives are excluded. The definition of new money yield has also\\nbeen revised to reflect this change. Yields for equities are based on the assumed dividend yield at the time of\\npurchase.\\n\\nThe increase in the Aflac Japan new money yield in 2017 was primarily due to increases in yen\\ninterest rates during much of the investment period as well as increased allocations to higher yielding asset\\nclasses.',\n",
    "  \"\\n\\nOff-Balance Sheet Arrangements\\n\\nAs of December 31, 2017,\\nthe Company had no material letters of credit, standby letters of credit, guarantees or standby repurchase\\nobligations. See Note 15 of the Notes to the Consolidated Financial Statements for information on material\\nunconditional purchase obligations that are not recorded on the Company's balance sheet.\\n\\nCAPITAL RESOURCES AND LIQUIDITY\\nAflac provides the primary sources of liquidity to the Parent Company through dividends and\\nmanagement fees. The following table presents the amounts provided for the years ended December 31.\\nLiquidity Provided by Aflac to Parent Company\",\n",
    "  \"\\n\\n\\n\\n\\n\\n\\n\\n\\n\\n\\n\\n\\n\\n\\n\\n\\n\\n\\n\\n\\n\\n\\n(In millions)\\n\\n\\n2017\\n\\n\\n \\n\\n\\n2016\\n\\n\\n \\n\\n\\n2015\\n\\n\\n \\n\\n\\n\\n\\nDividends declared or paid by Aflac\\n\\n\\n$\\n\\n\\n2,590\\n\\n\\n\\n\\n\\n(1) \\n\\n\\n$\\n\\n\\n2,000\\n\\n\\n\\n\\n\\n \\n\\n\\n$\\n\\n\\n2,393\\n\\n\\n\\n\\n\\n \\n\\n\\n\\n\\nManagement fees paid by Aflac\\n\\n\\n291\\n\\n\\n\\n\\n\\n \\n\\n\\n260\\n\\n\\n\\n\\n\\n \\n\\n\\n255\\n\\n\\n\\n\\n\\n \\n\\n\\n\\n\\n(1) Includes securities\\nof $622 at fair value which had a value of $656 at amortized cost\\n\\nThe primary uses of cash by the Parent Company are shareholder dividends, the repurchase of\\nits common stock and interest on its outstanding indebtedness and operating expenses. The Parent Company's\\nsources and uses of cash are reasonably predictable and are not expected to change materially in the future.\\nFor additional information, see the Financing Activities subsection of this MD&A.\",\n",
    "  \"\\n\\nThe Company's financial statements convey its financing arrangements during\\nthe periods presented. The Company has not engaged in material intra-period short-term financings during the\\nperiods presented that are not otherwise reported in its balance sheet or disclosed herein. The Company was in\\ncompliance with all of the covenants of its notes payable and lines of credit at December 31, 2017. The Company has not entered into transactions involving the\\ntransfer of financial assets with an obligation to repurchase financial assets that have been accounted for as\\na sale under applicable accounting standards, including securities lending transactions. See Notes 1, 3, and 4\\nof the Notes to the Consolidated Financial Statements for more information on the Company's securities lending\\nand derivative activities. With the exception of disclosed activities in those referenced footnotes, the\\nCompany does not have a known trend, demand, commitment, event or uncertainty that would reasonably result in\\nits liquidity increasing or decreasing by a material amount. The Company's cash and cash equivalents include\\nunrestricted cash on hand, money market instruments, and other debt instruments with a maturity of 90 days or\\nless when purchased, all of which has minimal market, settlement or other risk exposure.\",\n",
    "  \"\\n\\n\\n1,277\\n\\n\\n\\n\\n\\n \\n\\n\\n1,852\\n\\n\\n\\n\\n\\n \\n\\n\\n1,770\\n\\n\\n\\n\\n\\n \\n\\n\\n\\n\\n\\n69\\n\\n\\n\\n\\nUnder share repurchase authorizations from the Company's board of\\ndirectors, the Company purchased 17.8 million shares of its\\ncommon stock in the open market in 2017, compared with\\n21.6 million shares in 2016\\nand 21.2 million shares in\\n2015. In August 2017, Aflac's board of directors authorized the\\npurchase of an additional 40 million shares of its common stock. As of December 31,\\n2017, a remaining balance of 49.0 million shares of the Company's common stock was available for purchase under share repurchase authorizations by\\nits board of directors. The Company currently plans to purchase $1.1 billion\\nto $1.4 billion of its common stock\\nin 2018, assuming stable capital conditions and absent\\ncompelling alternatives. See Note 11 of the Notes to the Consolidated Financial Statements for additional\\ninformation.\\n\\nCash dividends paid to shareholders in 2017 of $1.74 per share\\nincreased 4.8% over 2016. The 2016 dividend paid\\nof $1.66 per share increased 5.1% over 2015. The following\\ntable presents the dividend activity for the years ended December 31.\\n\\n\\n\\n\\n\\n\\n\\n\\n\\n\\n\\n\\n\\n\\n\\n\\n\\n\\n\\n\\n\\n\\n(In millions)\\n\\n\\n2017\\n\\n\\n \\n\\n\\n2016\\n\\n\\n \\n\\n\\n2015\\n\\n\\n \\n\\n\\n\\n\\nDividends paid in cash\\n\\n\\n$\\n\\n\\n661\\n\\n\\n\\n\\n\\n \\n\\n\\n$\\n\\n\\n658\\n\\n\\n\\n\\n\\n \\n\\n\\n$\\n\\n\\n656\\n\\n\\n\\n\\n\\n \\n\\n\\n\\n\\nDividends through issuance of treasury shares\\n\\n\\n29\\n\\n\\n\\n\\n\\n \\n\\n\\n27\\n\\n\\n\\n\\n\\n \\n\\n\\n26\\n\\n\\n\\n\\n\\n \\n\\n\\n\\n\\nTotal dividends to shareholders\\n\\n\\n$\\n\\n\\n690\\n\\n\\n\\n\\n\\n \\n\\n\\n$\\n\\n\\n685\\n\\n\\n\\n\\n\\n \",\n",
    "  \"\\n\\nTransfers and Servicing - Repurchase-to-Maturity Transactions, Repurchase\\nFinancings, and Disclosures: In June 2014, the FASB issued updated guidance for\\nrepurchase agreement and security lending transactions to change the accounting for repurchase-to-maturity\\ntransactions and linked repurchase financings to be accounted for as secured borrowings, consistent with the\\naccounting for other repurchase agreements. The amendments also require new disclosures to increase\\ntransparency about the types of collateral pledged in repurchase agreements and similar transactions accounted\\nfor as secured borrowings. The Company adopted accounting changes for the new guidance as of January 1, 2015,\\nand adopted the required disclosures as of April 1, 2015. The adoption of this guidance did not have a\\nsignificant impact on the Company's financial position, results of operations, or disclosures.\",\n",
    "  \"\\n\\n\\n \\n\\n\\nUp to 30 days\\n\\n\\n \\n\\n\\n \\n\\n\\nTotal\\n\\n\\n\\n\\nSecurities lending transactions:\\n\\n\\n \\n\\n\\n \\n\\n\\n \\n\\n\\n \\n\\n\\n \\n\\n\\n \\n\\n\\n\\n\\nPublic utilities\\n\\n\\n$\\n\\n\\n62\\n\\n\\n\\n\\n\\n \\n\\n\\n$\\n\\n\\n0\\n\\n\\n\\n\\n\\n \\n\\n\\n \\n\\n\\n$\\n\\n\\n62\\n\\n\\n\\n\\n\\n\\n\\nBanks/financial institutions\\n\\n\\n34\\n\\n\\n\\n\\n\\n \\n\\n\\n0\\n\\n\\n\\n\\n\\n \\n\\n\\n \\n\\n\\n34\\n\\n\\n\\n\\n\\n\\n\\nOther corporate\\n\\n\\n430\\n\\n\\n\\n\\n\\n \\n\\n\\n0\\n\\n\\n\\n\\n\\n \\n\\n\\n \\n\\n\\n430\\n\\n\\n\\n\\n\\n\\n\\n          Total borrowings\\n\\n\\n$\\n\\n\\n526\\n\\n\\n\\n\\n\\n \\n\\n\\n$\\n\\n\\n0\\n\\n\\n\\n\\n\\n \\n\\n\\n \\n\\n\\n$\\n\\n\\n526\\n\\n\\n\\n\\n\\n\\n\\nGross amount of recognized liabilities for securities lending transactions\\n\\n\\n \\n\\n\\n$\\n\\n\\n526\\n\\n\\n\\n\\n\\n\\n\\nAmounts related to agreements not included in offsetting disclosure in Note 4\\n\\n\\n \\n\\n\\n$\\n\\n\\n0\\n\\n\\n\\n\\n\\n\\n\\n(1) These securities are\\npledged as collateral under the Company's U.S. securities lending program and can be called at its discretion;\\ntherefore, they are classified as Overnight and Continuous.\\n\\nThe Company did not have any repurchase agreements or\\nrepurchase-to-maturity transactions outstanding as of December 31, 2017\\nand 2016, respectively.\\n\\nCertain fixed-maturity securities can be pledged as collateral as part of derivative\\ntransactions, or pledged to support state deposit requirements on certain investment programs. For additional\\ninformation regarding pledged securities related to derivative transactions, see Note 4.\\n\\nAt December 31, 2017,\\ndebt securities with a fair value of $21 million were on\\ndeposit with regulatory authorities in the United States (including U.S. territories) and Japan. The Company\\nretains ownership of all securities on deposit and receives the related investment income.\",\n",
    "  \"\\n\\n\\n398,930\\n\\n\\n\\n\\n\\n \\n\\n\\n413,921\\n\\n\\n\\n\\n\\n \\n\\n\\n433,172\\n\\n\\n\\n\\n\\n\\n\\n\\nShare Repurchase Program: During\\n2017, the Company repurchased 17.8\\nmillion shares of its common stock in the open market, compared with\\n21.6 million shares in 2016\\nand 21.2 million shares in\\n2015. In August 2017, the Company's board of directors authorized\\nthe purchase of an additional 40 million shares of its common\\nstock. As of December 31, 2017, a remaining balance of\\n49.0 million shares of the Company's common stock was available for\\npurchase under share repurchase authorizations by its board of directors.\\n\\nVoting Rights: In accordance with the Parent\\nCompany's articles of incorporation, shares of common stock are generally entitled to one vote per share until they have been held by the same beneficial owner for a\\ncontinuous period of 48 months, at which time they become\\nentitled to 10 votes per share.\\nReclassifications from Accumulated Other Comprehensive Income\\nThe tables below are reconciliations of accumulated other comprehensive income by component\\nfor the years ended December 31.\\n\\n\\n154\\n\\n\\n\\nChanges in Accumulated Other Comprehensive Income\\n\\n\\n\\n\\n\\n\\n\\n\\n\\n\\n\\n\\n\\n\\n\\n\\n\\n\\n\\n\\n\\n\\n\\n\\n\\n\\n\\n\\n\\n\\n\\n\\n\\n\\n\\n\\n\\n\\n\\n\\n2017\\n\\n\\n\\n\\n(In millions)\\n\\n\\nUnrealized Foreign Currency Translation Gains (Losses)\\n\\n\\n \\n\\n\\nUnrealized Gains (Losses) on Investment Securities\\n\\n\\n \\n\\n\\nUnrealized Gains (Losses) on Derivatives\\n\\n\\n \\n\\n\\nPension Liability Adjustment\\n\\n\\n \\n\\n\\nTotal\\n\\n\\n\\n\\nBalance, beginning of period\\n\\n\\n \\n\\n\\n$\\n\\n\\n(1,983\\n\\n\\n)\\n\\n\\n \\n\\n\\n \\n\\n\\n \\n\\n\\n$\\n\\n\\n4,805\\n\\n\\n\\n\\n\\n \\n\\n\\n \\n\\n\\n \\n\\n\\n$\\n\\n\\n(24\\n\\n\\n)\\n\\n\\n \\n\\n\\n \\n\\n\\n \\n\\n\\n$\\n\\n\\n(168\\n\\n\\n)\\n\\n\\n \\n\\n\\n \\n\\n\\n \\n\\n\\n$\\n\\n\\n2,630\\n\\n\\n\\n\\n\\n \\n\\n\\n\\n\\nOther comprehensive income (loss) before reclassification\\n\\n\\n \\n\\n\\n233\"]]"
   ]
  },
  {
   "cell_type": "code",
   "execution_count": 20,
   "metadata": {},
   "outputs": [
    {
     "data": {
      "text/plain": [
       "[[\"\\n\\n\\n\\n \\n\\n\\n139.84\\n\\n\\n\\n\\n\\n \\n\\n\\n.86\\n\\n\\n\\n\\n\\n\\n\\n \\n\\n\\n \\n\\n\\n \\n\\n\\n \\n\\n\\n \\n\\n\\n \\n\\n\\n \\n\\n\\n \\n\\n\\n$\\n\\n\\n3.39\\n\\n\\n\\n\\n\\n\\n\\nPurchases of Equity Securities by the Issuer\\nOn 15 September 2011, the Board of Directors authorized the repurchase of up\\nto $1.0 billion of our outstanding common stock. This program\\ndoes not have a stated expiration date. We repurchase shares pursuant to Rules 10b5-1 and 10b-18 under the\\nSecurities Exchange Act of 1934, as amended, through repurchase agreements established with several brokers.\\nThere were no purchases of stock during fiscal year 2017.\\nAt 30 September 2017, $485.3\\nmillion in share repurchase authorization remained. Additional purchases will be\\ncompleted at the Company's discretion while maintaining sufficient funds for investing in its businesses and\\ngrowth opportunities.\\n15\",\n",
       "  '\\n\\nTable of Contents\\nFinancing and Capital Structure\\nCapital needs in 2017 were\\nsatisfied primarily with cash from operations. At the end of 2017, total debt outstanding was $3,962.8 compared\\nto $5,210.9 at the end of 2016, and cash and cash items were $3,273.6\\ncompared to $1,293.2 at the end of\\n2016.\\nOn 31 March 2017, we entered into a five-year $2,500.0 revolving credit\\nagreement with a syndicate of banks (the \"2017 Credit Agreement\"), under which senior unsecured debt is\\navailable to both the Company and certain of its subsidiaries. The 2017 Credit Agreement provides a source of\\nliquidity for the Company and supports its commercial paper program. The Company\\'s only financial covenant is a\\nmaximum ratio of total debt to total capitalization (total debt plus total equity) no greater than 70%. Total\\ndebt at 30 September 2017 and 2016, expressed as a percentage of total capitalization (total debt plus total\\nequity), was 28.0% and 41.9%, respectively. No borrowings were outstanding under the 2017 Credit\\nAgreement as of 30 September 2017.\\nThe 2017 Credit Agreement terminates and replaces our previous $2,690.0 revolving credit\\nagreement (the \"2013 Credit Agreement\"), which was to mature 30 April 2018. No borrowings were outstanding\\nunder the previous agreement at the time of its termination, and no early termination penalties were\\nincurred.\\nCommitments totaling $23.4 are maintained by our foreign subsidiaries, all of which was borrowed and outstanding at\\n30 September 2017.\\nAs of 30 September 2017,\\nwe are in compliance with all of the financial and other covenants under our debt agreements.\\nOn 15 September 2011, the Board of Directors authorized the repurchase of up\\nto $1,000 of our outstanding common stock. We did not\\npurchase any of our outstanding shares during fiscal years 2017, 2016 or 2015. At 30 September 2017, $485.3 in share repurchase authorization remains.\\n2018 Outlook\\nCash flows from operations and financing activities are expected to meet\\nliquidity needs for the foreseeable future and our working capital balance was $3,387.7 at 30 September 2017.\\nWe expect that we will continue to be in compliance with all of our financial covenants.\\nOn 16 October 2017, we repaid a 1.2% Senior Note of $400 that matured on 15 October 2017. As\\nof 30 September 2017, this note was reflected in current portion of long-term debt on the consolidated balance\\nsheets.\\nDividends\\nDividends are declared by the Board of Directors and are usually paid during\\nthe sixth week after the close of the fiscal quarter. During 2017, the Board of Directors increased the quarterly dividend from $.86 per share to $.95 per\\nshare.',\n",
       "  \"\\n\\nTable of Contents\\nThe unconditional purchase obligations also include other product supply and purchase\\ncommitments and electric power and natural gas supply purchase obligations, which are primarily pass-through\\ncontracts with our customers.\\nPurchase commitments to spend approximately $300 for additional plant and equipment are included in the unconditional\\npurchase obligations in 2018. In addition, we have purchase\\ncommitments totaling approximately $180 in\\n2018 relating to our long-term sale of equipment project for Saudi\\nAramco's Jazan oil refinery.\\n\\n\\n18. CAPITAL STOCK\\nCommon Stock\\nAuthorized common stock consists of 300\\nmillion shares with a par value of $1 per share. As of 30 September 2017, 249 million shares were issued, with 218 million\\noutstanding.\\nOn 15 September 2011, the Board of Directors authorized the repurchase of up\\nto $1,000 of our outstanding common stock. We repurchase\\nshares pursuant to Rules 10b5-1 and 10b-18 under the Securities Exchange Act of 1934, as amended, through\\nrepurchase agreements established with several brokers. We did not purchase any of our outstanding shares\\nduring fiscal year 2017. At 30 September 2017,\\n$485.3 in share repurchase authorization remains.\\nThe following table reflects the changes in common shares:\"],\n",
       " ['\\n\\nAs a holding company, the Parent Company depends on the ability of its subsidiaries to\\ntransfer funds to it to meet its debt service and other obligations and to pay dividends on its common\\nstock.\\nThe Parent Company is a holding company and has no direct operations, and its most significant\\nassets are the stock of its subsidiaries. Because the Parent Company conducts its operations through its\\noperating subsidiaries, the Parent Company depends on those entities for dividends and other payments to\\ngenerate the funds necessary to meet its debt service and other obligations, and to pay dividends on and\\nconduct repurchases of its common stock.',\n",
       "  \"\\n\\n\\n32\\n\\n\\n\\nStock Performance Graph\\nThe following graph compares the five-year performance of the Company's common stock to the\\nStandard & Poor's 500 Index (S&P 500) and the Standard & Poor's Life and Health Insurance Index\\n(S&P Life and Health). The Standard & Poor's Life and Health Insurance Index includes: Aflac\\nIncorporated, Brighthouse Financial Inc., Lincoln National Corporation, MetLife Inc., Principal Financial Group\\nInc., Prudential Financial Inc., Torchmark Corporation and Unum Group.\\n \\n\\nPerformance Graphic Index\\nDecember 31,\\n\\n\\n\\n\\n\\n\\n\\n\\n\\n\\n\\n\\n\\n\\n\\n\\n\\n\\n\\n\\n\\n\\n\\n\\n\\n\\n\\n \\n\\n\\n2012\\n\\n\\n\\n\\n\\n \\n\\n\\n2013\\n\\n\\n\\n\\n\\n \\n\\n\\n2014\\n\\n\\n\\n\\n\\n \\n\\n\\n2015\\n\\n\\n\\n\\n\\n \\n\\n\\n2016\\n\\n\\n\\n\\n\\n \\n\\n\\n2017\\n\\n\\n\\n\\n\\n\\n\\nAflac Incorporated\\n\\n\\n100.00\\n\\n\\n\\n\\n\\n \\n\\n\\n128.91\\n\\n\\n\\n\\n\\n \\n\\n\\n120.81\\n\\n\\n\\n\\n\\n \\n\\n\\n121.44\\n\\n\\n\\n\\n\\n \\n\\n\\n144.65\\n\\n\\n\\n\\n\\n \\n\\n\\n186.59\\n\\n\\n\\n\\n\\n\\n\\nS&P 500\\n\\n\\n100.00\\n\\n\\n\\n\\n\\n \\n\\n\\n132.39\\n\\n\\n\\n\\n\\n \\n\\n\\n150.51\\n\\n\\n\\n\\n\\n \\n\\n\\n152.59\\n\\n\\n\\n\\n\\n \\n\\n\\n170.84\\n\\n\\n\\n\\n\\n \\n\\n\\n208.14\\n\\n\\n\\n\\n\\n\\n\\nS&P Life & Health Insurance\\n\\n\\n100.00\\n\\n\\n\\n\\n\\n \\n\\n\\n163.48\\n\\n\\n\\n\\n\\n \\n\\n\\n166.66\\n\\n\\n\\n\\n\\n \\n\\n\\n156.14\\n\\n\\n\\n\\n\\n \\n\\n\\n194.96\\n\\n\\n\\n\\n\\n \\n\\n\\n226.98\\n\\n\\n\\n\\n\\n\\n\\nCopyright©\\n2018 Standard & Poor's, a division of S&P Global. All rights reserved.\\n\\n33\\n\\n\\n\\nIssuer Purchases of Equity Securities\\nDuring the year ended December 31,\\n2017, we repurchased shares of Aflac common stock as follows:\\n\\n\\n\\n\\n\\n\\n\\n\\n\\n\\n\\n\\n\\n\\n\\n\\n\\n\\n\\n\\n\\n\\n\\n\\n\\n\\n\\n\\n\\n\\n\\nPeriod\\n\\n\\nTotal Number of Shares Purchased\\n\\n\\n \\n\\n\\nAverage Price Paid Per Share\\n\\n\\n \\n\\n\\nTotal Number of Shares Purchased as Part of Publicly Announced Plans or Programs\\n\\n\\n \\n\\n\\nMaximum     Number of     Shares that     May Yet Be     Purchased     Under the     Plans or\\n    Programs    \\n\\n\\n \\n\\n\\n\\n\\nJanuary 1 - January 31\\n\\n\\n \\n\\n\\n3,819,299\\n\\n\\n\\n\\n\\n \\n\\n\\n \\n\\n\\n \\n\\n\\n$\\n\\n\\n69.94\\n\\n\\n\\n\\n\\n \\n\\n\\n \\n\\n\\n \\n\\n\\n3,819,299\\n\\n\\n\\n\\n\\n \\n\\n\\n \\n\\n\\n \\n\\n\\n22,934,155\\n\\n\\n\\n\\n\\n \\n\\n\\n \\n\\n\\n\\n\\nFebruary 1 - February 28\\n\\n\\n \\n\\n\\n1,988,420\\n\\n\\n\\n\\n\\n \\n\\n\\n \\n\\n\\n \\n\\n\\n70.03\\n\\n\\n\\n\\n\\n \\n\\n\\n \\n\\n\\n \\n\\n\\n1,853,000\\n\\n\\n\\n\\n\\n \\n\\n\\n \\n\\n\\n \\n\\n\\n21,081,155\\n\\n\\n\\n\\n\\n \\n\\n\\n \\n\\n\\n\\n\\nMarch 1 - March 31\\n\\n\\n \\n\\n\\n2,825,614\\n\\n\\n\\n\\n\\n \\n\\n\\n \\n\\n\\n \\n\\n\\n72.12\\n\\n\\n\\n\\n\\n \\n\\n\\n \\n\\n\\n \\n\\n\\n2,821,009\\n\\n\\n\\n\\n\\n \\n\\n\\n \\n\\n\\n \\n\\n\\n18,260,146\\n\\n\\n\\n\\n\\n \\n\\n\\n \\n\\n\\n\\n\\nApril 1 - April 30\\n\\n\\n \\n\\n\\n1,764,523\\n\\n\\n\\n\\n\\n \\n\\n\\n \\n\\n\\n \\n\\n\\n73.70\\n\\n\\n\\n\\n\\n \\n\\n\\n \\n\\n\\n \\n\\n\\n1,764,523\\n\\n\\n\\n\\n\\n \\n\\n\\n \\n\\n\\n \\n\\n\\n16,495,623\\n\\n\\n\\n\\n\\n \\n\\n\\n \\n\\n\\n\\n\\nMay 1 - May 31\\n\\n\\n \\n\\n\\n501\\n\\n\\n\\n\\n\\n \\n\\n\\n \\n\\n\\n \\n\\n\\n74.84\\n\\n\\n\\n\\n\\n \\n\\n\\n \\n\\n\\n \\n\\n\\n0\\n\\n\\n\\n\\n\\n \\n\\n\\n \\n\\n\\n \\n\\n\\n16,495,623\\n\\n\\n\\n\\n\\n \\n\\n\\n \\n\\n\\n\\n\\nJune 1  - June 30\\n\\n\\n \\n\\n\\n902,308\\n\\n\\n\\n\\n\\n \\n\\n\\n \\n\\n\\n \\n\\n\\n78.08\\n\\n\\n\\n\\n\\n \\n\\n\\n \\n\\n\\n \\n\\n\\n896,795\\n\\n\\n\\n\\n\\n \\n\\n\\n \\n\\n\\n \\n\\n\\n15,598,828\\n\\n\\n\\n\\n\\n \\n\\n\\n \\n\\n\\n\\n\\nJuly 1 - July 31\\n\\n\\n \\n\\n\\n1,066,100\\n\\n\\n\\n\\n\\n \\n\\n\\n \\n\\n\\n \\n\\n\\n77.88\\n\\n\\n\\n\\n\\n \\n\\n\\n \\n\\n\\n \\n\\n\\n1,066,100\\n\\n\\n\\n\\n\\n \\n\\n\\n \\n\\n\\n \\n\\n\\n14,532,728\\n\\n\\n\\n\\n\\n \\n\\n\\n \\n\\n\\n\\n\\nAugust 1 - August 31\\n\\n\\n \\n\\n\\n1,356,142\\n\\n\",\n",
       "  '\\n\\n\\n\\n\\n\\n \\n\\n\\n(1) \\n\\n\\n\\n\\n(1)The total remaining\\nshares available for purchase at December 31, 2017,\\nconsisted of 8,998,386 shares related to a 40,000,000 share\\nrepurchase authorization by the board of directors in 2015 and 40,000,000 shares related to a 40,000,000 share\\nrepurchase authorization by the board of directors announced in August 2017.\\n(2)During the year\\nended December 31, 2017, 156,456 shares were purchased in connection with income tax withholding\\nobligations related to the vesting of restricted-share-based awards during the period.\\n\\n\\n34\\n\\n\\n\\n\\nITEM 6.     SELECTED FINANCIAL DATA\\n\\nAflac Incorporated and Subsidiaries\\nYears Ended December 31,\\n \\n\\n\\n\\n\\n\\n\\n\\n\\n\\n\\n\\n\\n\\n\\n\\n\\n\\n\\n\\n\\n\\n\\n\\n\\n\\n\\n\\n\\n\\n(In millions, except for share and per-share amounts)\\n\\n\\n2017\\n\\n\\n \\n\\n\\n2016\\n\\n\\n \\n\\n\\n2015\\n\\n\\n \\n\\n\\n2014\\n\\n\\n \\n\\n\\n2013\\n\\n\\n\\n\\nRevenues:\\n\\n\\n \\n\\n\\n \\n\\n\\n \\n\\n\\n \\n\\n\\n \\n\\n\\n \\n\\n\\n \\n\\n\\n \\n\\n\\n \\n\\n\\n\\n\\nNet premiums, principally supplemental health insurance\\n\\n\\n$\\n\\n\\n18,531\\n\\n\\n\\n\\n\\n \\n\\n\\n$\\n\\n\\n19,225\\n\\n\\n\\n\\n\\n \\n\\n\\n$\\n\\n\\n17,570\\n\\n\\n\\n\\n\\n \\n\\n\\n$\\n\\n\\n19,072\\n\\n\\n\\n\\n\\n \\n\\n\\n$\\n\\n\\n20,135\\n\\n\\n\\n\\n\\n\\n\\nNet investment income\\n\\n\\n3,220\\n\\n\\n\\n\\n\\n \\n\\n\\n3,278\\n\\n\\n\\n\\n\\n \\n\\n\\n3,135\\n\\n\\n\\n\\n\\n \\n\\n\\n3,319\\n\\n\\n\\n\\n\\n \\n\\n\\n3,293\\n\\n\\n\\n\\n\\n\\n\\nRealized investment gains (losses)\\n\\n\\n(151\\n\\n\\n)\\n\\n\\n \\n\\n\\n(14\\n\\n\\n)\\n\\n\\n \\n\\n\\n106\\n\\n\\n\\n\\n\\n \\n\\n\\n282\\n\\n\\n\\n\\n\\n \\n\\n\\n426\\n\\n\\n\\n\\n\\n\\n\\nOther income\\n\\n\\n67\\n\\n\\n\\n\\n\\n \\n\\n\\n70\\n\\n\\n\\n\\n\\n \\n\\n\\n61\\n\\n\\n\\n\\n\\n \\n\\n\\n55\\n\\n\\n\\n\\n\\n \\n\\n\\n85\\n\\n\\n\\n\\n\\n\\n\\nTotal revenues\\n\\n\\n21,667\\n\\n\\n\\n\\n\\n \\n\\n\\n22,559\\n\\n\\n\\n\\n\\n \\n\\n\\n20,872\\n\\n\\n\\n\\n\\n \\n\\n\\n22,728\\n\\n\\n\\n\\n\\n \\n\\n\\n23,939\\n\\n\\n\\n\\n\\n\\n\\nBenefits and expenses:\\n\\n\\n \\n\\n\\n \\n\\n\\n \\n\\n\\n \\n\\n\\n \\n\\n\\n \\n\\n\\n \\n\\n\\n \\n\\n\\n \\n\\n\\n\\n\\nBenefits and claims, net\\n\\n\\n12,181\\n\\n\\n\\n\\n\\n \\n\\n\\n12,919\\n\\n\\n\\n\\n\\n \\n\\n\\n11,746\\n\\n\\n\\n\\n\\n \\n\\n\\n12,937\\n\\n\\n\\n\\n\\n \\n\\n\\n13,813\\n\\n\\n\\n\\n\\n\\n\\nExpenses\\n\\n\\n5,468\\n\\n\\n\\n\\n\\n \\n\\n\\n5,573\\n\\n\\n\\n\\n\\n \\n\\n\\n5,264\\n\\n\\n\\n\\n\\n \\n\\n\\n5,300\\n\\n\\n\\n\\n\\n \\n\\n\\n5,310\\n\\n\\n\\n\\n\\n\\n\\nTotal benefits and expenses\\n\\n\\n17,649\\n\\n\\n\\n\\n\\n \\n\\n\\n18,492\\n\\n\\n\\n\\n\\n \\n\\n\\n17,010\\n\\n\\n\\n\\n\\n \\n\\n\\n18,237\\n\\n\\n\\n\\n\\n \\n\\n\\n19,123\\n\\n\\n\\n\\n\\n\\n\\nPretax earnings\\n\\n\\n4,018\\n\\n\\n\\n\\n\\n \\n\\n\\n4,067\\n\\n\\n\\n\\n\\n \\n\\n\\n3,862\\n\\n\\n\\n\\n\\n \\n\\n\\n4,491\\n\\n\\n\\n\\n\\n \\n\\n\\n4,816\\n\\n\\n\\n\\n\\n\\n\\nIncome taxes\\n\\n\\n(586\\n\\n\\n)\\n\\n\\n \\n\\n\\n1,408\\n\\n\\n\\n\\n\\n \\n\\n\\n1,329\\n\\n\\n\\n\\n\\n \\n\\n\\n1,540\\n\\n\\n\\n\\n\\n \\n\\n\\n1,658\\n\\n\\n\\n\\n\\n\\n\\nNet earnings\\n\\n\\n$\\n\\n\\n4,604\\n\\n\\n\\n\\n\\n \\n\\n\\n$\\n\\n\\n2,659\\n\\n\\n\\n\\n\\n \\n\\n\\n$\\n\\n\\n2,533\\n\\n\\n\\n\\n\\n \\n\\n\\n$\\n\\n\\n2,951\\n\\n\\n\\n\\n\\n \\n\\n\\n$\\n\\n\\n3,158\\n\\n\\n\\n\\n\\n\\n\\nShare and Per-Share Amounts\\n\\n\\n \\n\\n\\n \\n\\n\\n \\n\\n\\n \\n\\n\\n \\n\\n\\n \\n\\n\\n \\n\\n\\n \\n\\n\\n \\n\\n\\n\\n\\nNet earnings (basic)\\n\\n\\n$\\n\\n\\n11.63\\n\\n\\n\\n\\n\\n \\n\\n\\n$\\n\\n\\n6.46\\n\\n\\n\\n\\n\\n \\n\\n\\n$\\n\\n\\n5.88\\n\\n\\n\\n\\n\\n \\n\\n\\n$\\n\\n\\n6.54\\n\\n\\n\\n\\n\\n \\n\\n\\n$\\n\\n\\n6.80\\n\\n\\n\\n\\n\\n\\n\\nNet earnings (diluted)\\n\\n\\n11.54\\n\\n\\n\\n\\n\\n \\n\\n\\n6.42\\n\\n\\n\\n\\n\\n \\n\\n\\n5.85\\n\\n\\n\\n\\n\\n \\n\\n\\n6.50\\n\\n\\n\\n\\n\\n \\n\\n\\n6.76\\n\\n\\n\\n\\n\\n\\n\\nCash dividends paid\\n\\n\\n1.74\\n\\n\\n\\n\\n\\n \\n\\n\\n1.66\\n\\n\\n\\n\\n\\n \\n\\n\\n1.58\\n\\n\\n\\n\\n\\n \\n\\n\\n1.50\\n\\n\\n\\n\\n\\n \\n\\n\\n1.42\\n\\n\\n\\n\\n\\n\\n\\nCash dividends declared\\n\\n\\n1.74\\n\\n\\n\\n\\n\\n \\n\\n\\n1.66\\n\\n\\n\\n\\n\\n \\n\\n\\n1.58\\n\\n\\n\\n\\n\\n \\n\\n\\n1.50\\n\\n\\n\\n\\n\\n \\n\\n\\n1.42\\n\\n\\n\\n\\n\\n\\n\\nWeighted-average common shares used for basic EPS (In thousands)\\n\\n\\n396,021\\n\\n\\n\\n\\n\\n \\n\\n\\n411,471\\n\\n\\n\\n\\n\\n ',\n",
       "  \"\\n\\nThe Company repurchased 17.8 million shares of its common stock in the open market for $1.35 billion\\nunder the Company's share repurchase program in 2017, compared with the repurchase of 21.6\\nmillion shares for $1.4 billion in 2016.\\n\\n\\nCRITICAL ACCOUNTING ESTIMATES\\n\\nThe Company prepares its financial statements in accordance with U.S.\\ngenerally accepted accounting principles (GAAP). These principles are established primarily by the Financial\\nAccounting Standards Board (FASB). In this MD&A, references to U.S. GAAP issued by the FASB are derived\\nfrom the FASB Accounting Standards CodificationTM\\n(ASC). The preparation of financial statements in conformity with U.S. GAAP requires the\\nCompany to make estimates based on currently available information when recording transactions resulting from\\nbusiness operations. The estimates that the Company deems to be most critical to an understanding of Aflac's\\nresults of operations and financial condition are those related to the valuation of investments and\\nderivatives, deferred policy acquisition costs (DAC), liabilities for future policy benefits and unpaid policy\\nclaims, and income taxes. The preparation and evaluation of these critical accounting estimates involve the use\\nof various assumptions developed from management's analyses and judgments. The application of these critical\\naccounting estimates determines the values at which 95% of\\nthe Company's assets and 81% of its liabilities are reported\\nas of December 31, 2017, and thus has a direct effect on net\\nearnings and shareholders' equity. Subsequent experience or use of other assumptions could produce\\nsignificantly different results.\",\n",
       "  '\\n\\n\\n \\n\\n\\n2.62\\n\\n\\n%\\n\\n\\n \\n\\n\\n2.80\\n\\n\\n%\\n\\n\\n\\n\\n(1) Includes fixed\\nmaturities and perpetual securities, loan receivables, equities, and excludes alternative investments in\\nlimited partnerships\\n(2) Reported on a gross\\nyield basis; excludes investment expenses, external management fees, and amortized hedge costs\\n(3) Net of investment\\nexpenses and amortized hedge costs, year-to-date number reflected on a quarterly average basis\\n\\nOn January 1, 2016, the company revised its definition of purchases to include the\\nreinvestment of proceeds related to unplanned sale activity. New purchases include all purchases related to\\nfixed maturities and perpetuals, loan receivables, and equities. Securities lending/repurchase agreement\\nactivity and capital contributions to alternatives are excluded. The definition of new money yield has also\\nbeen revised to reflect this change. Yields for equities are based on the assumed dividend yield at the time of\\npurchase.\\n\\nThe increase in the Aflac Japan new money yield in 2017 was primarily due to increases in yen\\ninterest rates during much of the investment period as well as increased allocations to higher yielding asset\\nclasses.',\n",
       "  \"\\n\\nOff-Balance Sheet Arrangements\\n\\nAs of December 31, 2017,\\nthe Company had no material letters of credit, standby letters of credit, guarantees or standby repurchase\\nobligations. See Note 15 of the Notes to the Consolidated Financial Statements for information on material\\nunconditional purchase obligations that are not recorded on the Company's balance sheet.\\n\\nCAPITAL RESOURCES AND LIQUIDITY\\nAflac provides the primary sources of liquidity to the Parent Company through dividends and\\nmanagement fees. The following table presents the amounts provided for the years ended December 31.\\nLiquidity Provided by Aflac to Parent Company\",\n",
       "  \"\\n\\n\\n\\n\\n\\n\\n\\n\\n\\n\\n\\n\\n\\n\\n\\n\\n\\n\\n\\n\\n\\n\\n(In millions)\\n\\n\\n2017\\n\\n\\n \\n\\n\\n2016\\n\\n\\n \\n\\n\\n2015\\n\\n\\n \\n\\n\\n\\n\\nDividends declared or paid by Aflac\\n\\n\\n$\\n\\n\\n2,590\\n\\n\\n\\n\\n\\n(1) \\n\\n\\n$\\n\\n\\n2,000\\n\\n\\n\\n\\n\\n \\n\\n\\n$\\n\\n\\n2,393\\n\\n\\n\\n\\n\\n \\n\\n\\n\\n\\nManagement fees paid by Aflac\\n\\n\\n291\\n\\n\\n\\n\\n\\n \\n\\n\\n260\\n\\n\\n\\n\\n\\n \\n\\n\\n255\\n\\n\\n\\n\\n\\n \\n\\n\\n\\n\\n(1) Includes securities\\nof $622 at fair value which had a value of $656 at amortized cost\\n\\nThe primary uses of cash by the Parent Company are shareholder dividends, the repurchase of\\nits common stock and interest on its outstanding indebtedness and operating expenses. The Parent Company's\\nsources and uses of cash are reasonably predictable and are not expected to change materially in the future.\\nFor additional information, see the Financing Activities subsection of this MD&A.\",\n",
       "  \"\\n\\nThe Company's financial statements convey its financing arrangements during\\nthe periods presented. The Company has not engaged in material intra-period short-term financings during the\\nperiods presented that are not otherwise reported in its balance sheet or disclosed herein. The Company was in\\ncompliance with all of the covenants of its notes payable and lines of credit at December 31, 2017. The Company has not entered into transactions involving the\\ntransfer of financial assets with an obligation to repurchase financial assets that have been accounted for as\\na sale under applicable accounting standards, including securities lending transactions. See Notes 1, 3, and 4\\nof the Notes to the Consolidated Financial Statements for more information on the Company's securities lending\\nand derivative activities. With the exception of disclosed activities in those referenced footnotes, the\\nCompany does not have a known trend, demand, commitment, event or uncertainty that would reasonably result in\\nits liquidity increasing or decreasing by a material amount. The Company's cash and cash equivalents include\\nunrestricted cash on hand, money market instruments, and other debt instruments with a maturity of 90 days or\\nless when purchased, all of which has minimal market, settlement or other risk exposure.\",\n",
       "  \"\\n\\n\\n1,277\\n\\n\\n\\n\\n\\n \\n\\n\\n1,852\\n\\n\\n\\n\\n\\n \\n\\n\\n1,770\\n\\n\\n\\n\\n\\n \\n\\n\\n\\n\\n\\n69\\n\\n\\n\\n\\nUnder share repurchase authorizations from the Company's board of\\ndirectors, the Company purchased 17.8 million shares of its\\ncommon stock in the open market in 2017, compared with\\n21.6 million shares in 2016\\nand 21.2 million shares in\\n2015. In August 2017, Aflac's board of directors authorized the\\npurchase of an additional 40 million shares of its common stock. As of December 31,\\n2017, a remaining balance of 49.0 million shares of the Company's common stock was available for purchase under share repurchase authorizations by\\nits board of directors. The Company currently plans to purchase $1.1 billion\\nto $1.4 billion of its common stock\\nin 2018, assuming stable capital conditions and absent\\ncompelling alternatives. See Note 11 of the Notes to the Consolidated Financial Statements for additional\\ninformation.\\n\\nCash dividends paid to shareholders in 2017 of $1.74 per share\\nincreased 4.8% over 2016. The 2016 dividend paid\\nof $1.66 per share increased 5.1% over 2015. The following\\ntable presents the dividend activity for the years ended December 31.\\n\\n\\n\\n\\n\\n\\n\\n\\n\\n\\n\\n\\n\\n\\n\\n\\n\\n\\n\\n\\n\\n\\n(In millions)\\n\\n\\n2017\\n\\n\\n \\n\\n\\n2016\\n\\n\\n \\n\\n\\n2015\\n\\n\\n \\n\\n\\n\\n\\nDividends paid in cash\\n\\n\\n$\\n\\n\\n661\\n\\n\\n\\n\\n\\n \\n\\n\\n$\\n\\n\\n658\\n\\n\\n\\n\\n\\n \\n\\n\\n$\\n\\n\\n656\\n\\n\\n\\n\\n\\n \\n\\n\\n\\n\\nDividends through issuance of treasury shares\\n\\n\\n29\\n\\n\\n\\n\\n\\n \\n\\n\\n27\\n\\n\\n\\n\\n\\n \\n\\n\\n26\\n\\n\\n\\n\\n\\n \\n\\n\\n\\n\\nTotal dividends to shareholders\\n\\n\\n$\\n\\n\\n690\\n\\n\\n\\n\\n\\n \\n\\n\\n$\\n\\n\\n685\\n\\n\\n\\n\\n\\n \",\n",
       "  \"\\n\\nTransfers and Servicing - Repurchase-to-Maturity Transactions, Repurchase\\nFinancings, and Disclosures: In June 2014, the FASB issued updated guidance for\\nrepurchase agreement and security lending transactions to change the accounting for repurchase-to-maturity\\ntransactions and linked repurchase financings to be accounted for as secured borrowings, consistent with the\\naccounting for other repurchase agreements. The amendments also require new disclosures to increase\\ntransparency about the types of collateral pledged in repurchase agreements and similar transactions accounted\\nfor as secured borrowings. The Company adopted accounting changes for the new guidance as of January 1, 2015,\\nand adopted the required disclosures as of April 1, 2015. The adoption of this guidance did not have a\\nsignificant impact on the Company's financial position, results of operations, or disclosures.\",\n",
       "  \"\\n\\n\\n \\n\\n\\nUp to 30 days\\n\\n\\n \\n\\n\\n \\n\\n\\nTotal\\n\\n\\n\\n\\nSecurities lending transactions:\\n\\n\\n \\n\\n\\n \\n\\n\\n \\n\\n\\n \\n\\n\\n \\n\\n\\n \\n\\n\\n\\n\\nPublic utilities\\n\\n\\n$\\n\\n\\n62\\n\\n\\n\\n\\n\\n \\n\\n\\n$\\n\\n\\n0\\n\\n\\n\\n\\n\\n \\n\\n\\n \\n\\n\\n$\\n\\n\\n62\\n\\n\\n\\n\\n\\n\\n\\nBanks/financial institutions\\n\\n\\n34\\n\\n\\n\\n\\n\\n \\n\\n\\n0\\n\\n\\n\\n\\n\\n \\n\\n\\n \\n\\n\\n34\\n\\n\\n\\n\\n\\n\\n\\nOther corporate\\n\\n\\n430\\n\\n\\n\\n\\n\\n \\n\\n\\n0\\n\\n\\n\\n\\n\\n \\n\\n\\n \\n\\n\\n430\\n\\n\\n\\n\\n\\n\\n\\n          Total borrowings\\n\\n\\n$\\n\\n\\n526\\n\\n\\n\\n\\n\\n \\n\\n\\n$\\n\\n\\n0\\n\\n\\n\\n\\n\\n \\n\\n\\n \\n\\n\\n$\\n\\n\\n526\\n\\n\\n\\n\\n\\n\\n\\nGross amount of recognized liabilities for securities lending transactions\\n\\n\\n \\n\\n\\n$\\n\\n\\n526\\n\\n\\n\\n\\n\\n\\n\\nAmounts related to agreements not included in offsetting disclosure in Note 4\\n\\n\\n \\n\\n\\n$\\n\\n\\n0\\n\\n\\n\\n\\n\\n\\n\\n(1) These securities are\\npledged as collateral under the Company's U.S. securities lending program and can be called at its discretion;\\ntherefore, they are classified as Overnight and Continuous.\\n\\nThe Company did not have any repurchase agreements or\\nrepurchase-to-maturity transactions outstanding as of December 31, 2017\\nand 2016, respectively.\\n\\nCertain fixed-maturity securities can be pledged as collateral as part of derivative\\ntransactions, or pledged to support state deposit requirements on certain investment programs. For additional\\ninformation regarding pledged securities related to derivative transactions, see Note 4.\\n\\nAt December 31, 2017,\\ndebt securities with a fair value of $21 million were on\\ndeposit with regulatory authorities in the United States (including U.S. territories) and Japan. The Company\\nretains ownership of all securities on deposit and receives the related investment income.\",\n",
       "  \"\\n\\n\\n398,930\\n\\n\\n\\n\\n\\n \\n\\n\\n413,921\\n\\n\\n\\n\\n\\n \\n\\n\\n433,172\\n\\n\\n\\n\\n\\n\\n\\n\\nShare Repurchase Program: During\\n2017, the Company repurchased 17.8\\nmillion shares of its common stock in the open market, compared with\\n21.6 million shares in 2016\\nand 21.2 million shares in\\n2015. In August 2017, the Company's board of directors authorized\\nthe purchase of an additional 40 million shares of its common\\nstock. As of December 31, 2017, a remaining balance of\\n49.0 million shares of the Company's common stock was available for\\npurchase under share repurchase authorizations by its board of directors.\\n\\nVoting Rights: In accordance with the Parent\\nCompany's articles of incorporation, shares of common stock are generally entitled to one vote per share until they have been held by the same beneficial owner for a\\ncontinuous period of 48 months, at which time they become\\nentitled to 10 votes per share.\\nReclassifications from Accumulated Other Comprehensive Income\\nThe tables below are reconciliations of accumulated other comprehensive income by component\\nfor the years ended December 31.\\n\\n\\n154\\n\\n\\n\\nChanges in Accumulated Other Comprehensive Income\\n\\n\\n\\n\\n\\n\\n\\n\\n\\n\\n\\n\\n\\n\\n\\n\\n\\n\\n\\n\\n\\n\\n\\n\\n\\n\\n\\n\\n\\n\\n\\n\\n\\n\\n\\n\\n\\n\\n\\n\\n2017\\n\\n\\n\\n\\n(In millions)\\n\\n\\nUnrealized Foreign Currency Translation Gains (Losses)\\n\\n\\n \\n\\n\\nUnrealized Gains (Losses) on Investment Securities\\n\\n\\n \\n\\n\\nUnrealized Gains (Losses) on Derivatives\\n\\n\\n \\n\\n\\nPension Liability Adjustment\\n\\n\\n \\n\\n\\nTotal\\n\\n\\n\\n\\nBalance, beginning of period\\n\\n\\n \\n\\n\\n$\\n\\n\\n(1,983\\n\\n\\n)\\n\\n\\n \\n\\n\\n \\n\\n\\n \\n\\n\\n$\\n\\n\\n4,805\\n\\n\\n\\n\\n\\n \\n\\n\\n \\n\\n\\n \\n\\n\\n$\\n\\n\\n(24\\n\\n\\n)\\n\\n\\n \\n\\n\\n \\n\\n\\n \\n\\n\\n$\\n\\n\\n(168\\n\\n\\n)\\n\\n\\n \\n\\n\\n \\n\\n\\n \\n\\n\\n$\\n\\n\\n2,630\\n\\n\\n\\n\\n\\n \\n\\n\\n\\n\\nOther comprehensive income (loss) before reclassification\\n\\n\\n \\n\\n\\n233\"]]"
      ]
     },
     "execution_count": 20,
     "metadata": {},
     "output_type": "execute_result"
    }
   ],
   "source": [
    "paragraphs_jc"
   ]
  },
  {
   "cell_type": "code",
   "execution_count": 23,
   "metadata": {},
   "outputs": [
    {
     "data": {
      "text/plain": [
       "str"
      ]
     },
     "execution_count": 23,
     "metadata": {},
     "output_type": "execute_result"
    }
   ],
   "source": [
    "type(paragraphs_jc[0][0][0])"
   ]
  },
  {
   "cell_type": "code",
   "execution_count": 102,
   "metadata": {},
   "outputs": [],
   "source": [
    "d1p1 = paragraphs_jc[0][0].replace(\"\\n\", \" \")"
   ]
  },
  {
   "cell_type": "code",
   "execution_count": 103,
   "metadata": {},
   "outputs": [
    {
     "data": {
      "text/plain": [
       "\"        139.84          .86                                        $   3.39        Purchases of Equity Securities by the Issuer On 15 September 2011, the Board of Directors authorized the repurchase of up to $1.0 billion of our outstanding common stock. This program does not have a stated expiration date. We repurchase shares pursuant to Rules 10b5-1 and 10b-18 under the Securities Exchange Act of 1934, as amended, through repurchase agreements established with several brokers. There were no purchases of stock during fiscal year 2017. At 30 September 2017, $485.3 million in share repurchase authorization remained. Additional purchases will be completed at the Company's discretion while maintaining sufficient funds for investing in its businesses and growth opportunities. 15\""
      ]
     },
     "execution_count": 103,
     "metadata": {},
     "output_type": "execute_result"
    }
   ],
   "source": [
    "d1p1"
   ]
  },
  {
   "cell_type": "code",
   "execution_count": 107,
   "metadata": {},
   "outputs": [],
   "source": [
    "def remove_newlines(ind1, ind2):\n",
    "    return(paragraphs_jc[ind1][ind2].replace(\"\\n\", \" \"))"
   ]
  },
  {
   "cell_type": "code",
   "execution_count": 110,
   "metadata": {},
   "outputs": [],
   "source": [
    "d1p2 = remove_newlines(0, 1)"
   ]
  },
  {
   "cell_type": "code",
   "execution_count": 111,
   "metadata": {},
   "outputs": [
    {
     "data": {
      "text/plain": [
       "'  Table of Contents Financing and Capital Structure Capital needs in 2017 were satisfied primarily with cash from operations. At the end of 2017, total debt outstanding was $3,962.8 compared to $5,210.9 at the end of 2016, and cash and cash items were $3,273.6 compared to $1,293.2 at the end of 2016. On 31 March 2017, we entered into a five-year $2,500.0 revolving credit agreement with a syndicate of banks (the \"2017 Credit Agreement\"), under which senior unsecured debt is available to both the Company and certain of its subsidiaries. The 2017 Credit Agreement provides a source of liquidity for the Company and supports its commercial paper program. The Company\\'s only financial covenant is a maximum ratio of total debt to total capitalization (total debt plus total equity) no greater than 70%. Total debt at 30 September 2017 and 2016, expressed as a percentage of total capitalization (total debt plus total equity), was 28.0% and 41.9%, respectively. No borrowings were outstanding under the 2017 Credit Agreement as of 30 September 2017. The 2017 Credit Agreement terminates and replaces our previous $2,690.0 revolving credit agreement (the \"2013 Credit Agreement\"), which was to mature 30 April 2018. No borrowings were outstanding under the previous agreement at the time of its termination, and no early termination penalties were incurred. Commitments totaling $23.4 are maintained by our foreign subsidiaries, all of which was borrowed and outstanding at 30 September 2017. As of 30 September 2017, we are in compliance with all of the financial and other covenants under our debt agreements. On 15 September 2011, the Board of Directors authorized the repurchase of up to $1,000 of our outstanding common stock. We did not purchase any of our outstanding shares during fiscal years 2017, 2016 or 2015. At 30 September 2017, $485.3 in share repurchase authorization remains. 2018 Outlook Cash flows from operations and financing activities are expected to meet liquidity needs for the foreseeable future and our working capital balance was $3,387.7 at 30 September 2017. We expect that we will continue to be in compliance with all of our financial covenants. On 16 October 2017, we repaid a 1.2% Senior Note of $400 that matured on 15 October 2017. As of 30 September 2017, this note was reflected in current portion of long-term debt on the consolidated balance sheets. Dividends Dividends are declared by the Board of Directors and are usually paid during the sixth week after the close of the fiscal quarter. During 2017, the Board of Directors increased the quarterly dividend from $.86 per share to $.95 per share.'"
      ]
     },
     "execution_count": 111,
     "metadata": {},
     "output_type": "execute_result"
    }
   ],
   "source": [
    "d1p2"
   ]
  },
  {
   "cell_type": "code",
   "execution_count": 119,
   "metadata": {},
   "outputs": [
    {
     "data": {
      "text/plain": [
       "[[\"        139.84          .86                                        $   3.39        Purchases of Equity Securities by the Issuer On 15 September 2011, the Board of Directors authorized the repurchase of up to $1.0 billion of our outstanding common stock. This program does not have a stated expiration date. We repurchase shares pursuant to Rules 10b5-1 and 10b-18 under the Securities Exchange Act of 1934, as amended, through repurchase agreements established with several brokers. There were no purchases of stock during fiscal year 2017. At 30 September 2017, $485.3 million in share repurchase authorization remained. Additional purchases will be completed at the Company's discretion while maintaining sufficient funds for investing in its businesses and growth opportunities. 15\",\n",
       "  '  Table of Contents Financing and Capital Structure Capital needs in 2017 were satisfied primarily with cash from operations. At the end of 2017, total debt outstanding was $3,962.8 compared to $5,210.9 at the end of 2016, and cash and cash items were $3,273.6 compared to $1,293.2 at the end of 2016. On 31 March 2017, we entered into a five-year $2,500.0 revolving credit agreement with a syndicate of banks (the \"2017 Credit Agreement\"), under which senior unsecured debt is available to both the Company and certain of its subsidiaries. The 2017 Credit Agreement provides a source of liquidity for the Company and supports its commercial paper program. The Company\\'s only financial covenant is a maximum ratio of total debt to total capitalization (total debt plus total equity) no greater than 70%. Total debt at 30 September 2017 and 2016, expressed as a percentage of total capitalization (total debt plus total equity), was 28.0% and 41.9%, respectively. No borrowings were outstanding under the 2017 Credit Agreement as of 30 September 2017. The 2017 Credit Agreement terminates and replaces our previous $2,690.0 revolving credit agreement (the \"2013 Credit Agreement\"), which was to mature 30 April 2018. No borrowings were outstanding under the previous agreement at the time of its termination, and no early termination penalties were incurred. Commitments totaling $23.4 are maintained by our foreign subsidiaries, all of which was borrowed and outstanding at 30 September 2017. As of 30 September 2017, we are in compliance with all of the financial and other covenants under our debt agreements. On 15 September 2011, the Board of Directors authorized the repurchase of up to $1,000 of our outstanding common stock. We did not purchase any of our outstanding shares during fiscal years 2017, 2016 or 2015. At 30 September 2017, $485.3 in share repurchase authorization remains. 2018 Outlook Cash flows from operations and financing activities are expected to meet liquidity needs for the foreseeable future and our working capital balance was $3,387.7 at 30 September 2017. We expect that we will continue to be in compliance with all of our financial covenants. On 16 October 2017, we repaid a 1.2% Senior Note of $400 that matured on 15 October 2017. As of 30 September 2017, this note was reflected in current portion of long-term debt on the consolidated balance sheets. Dividends Dividends are declared by the Board of Directors and are usually paid during the sixth week after the close of the fiscal quarter. During 2017, the Board of Directors increased the quarterly dividend from $.86 per share to $.95 per share.',\n",
       "  \"  Table of Contents The unconditional purchase obligations also include other product supply and purchase commitments and electric power and natural gas supply purchase obligations, which are primarily pass-through contracts with our customers. Purchase commitments to spend approximately $300 for additional plant and equipment are included in the unconditional purchase obligations in 2018. In addition, we have purchase commitments totaling approximately $180 in 2018 relating to our long-term sale of equipment project for Saudi Aramco's Jazan oil refinery.   18. CAPITAL STOCK Common Stock Authorized common stock consists of 300 million shares with a par value of $1 per share. As of 30 September 2017, 249 million shares were issued, with 218 million outstanding. On 15 September 2011, the Board of Directors authorized the repurchase of up to $1,000 of our outstanding common stock. We repurchase shares pursuant to Rules 10b5-1 and 10b-18 under the Securities Exchange Act of 1934, as amended, through repurchase agreements established with several brokers. We did not purchase any of our outstanding shares during fiscal year 2017. At 30 September 2017, $485.3 in share repurchase authorization remains. The following table reflects the changes in common shares:\"],\n",
       " ['  As a holding company, the Parent Company depends on the ability of its subsidiaries to transfer funds to it to meet its debt service and other obligations and to pay dividends on its common stock. The Parent Company is a holding company and has no direct operations, and its most significant assets are the stock of its subsidiaries. Because the Parent Company conducts its operations through its operating subsidiaries, the Parent Company depends on those entities for dividends and other payments to generate the funds necessary to meet its debt service and other obligations, and to pay dividends on and conduct repurchases of its common stock.',\n",
       "  \"   32    Stock Performance Graph The following graph compares the five-year performance of the Company's common stock to the Standard & Poor's 500 Index (S&P 500) and the Standard & Poor's Life and Health Insurance Index (S&P Life and Health). The Standard & Poor's Life and Health Insurance Index includes: Aflac Incorporated, Brighthouse Financial Inc., Lincoln National Corporation, MetLife Inc., Principal Financial Group Inc., Prudential Financial Inc., Torchmark Corporation and Unum Group.    Performance Graphic Index December 31,                                2012          2013          2014          2015          2016          2017        Aflac Incorporated   100.00          128.91          120.81          121.44          144.65          186.59        S&P 500   100.00          132.39          150.51          152.59          170.84          208.14        S&P Life & Health Insurance   100.00          163.48          166.66          156.14          194.96          226.98        Copyright© 2018 Standard & Poor's, a division of S&P Global. All rights reserved.  33    Issuer Purchases of Equity Securities During the year ended December 31, 2017, we repurchased shares of Aflac common stock as follows:                                Period   Total Number of Shares Purchased       Average Price Paid Per Share       Total Number of Shares Purchased as Part of Publicly Announced Plans or Programs       Maximum     Number of     Shares that     May Yet Be     Purchased     Under the     Plans or     Programs             January 1 - January 31       3,819,299                  $   69.94                  3,819,299                  22,934,155                February 1 - February 28       1,988,420                  70.03                  1,853,000                  21,081,155                March 1 - March 31       2,825,614                  72.12                  2,821,009                  18,260,146                April 1 - April 30       1,764,523                  73.70                  1,764,523                  16,495,623                May 1 - May 31       501                  74.84                  0                  16,495,623                June 1  - June 30       902,308                  78.08                  896,795                  15,598,828                July 1 - July 31       1,066,100                  77.88                  1,066,100                  14,532,728                August 1 - August 31       1,356,142  \",\n",
       "  '          (1)      (1)The total remaining shares available for purchase at December 31, 2017, consisted of 8,998,386 shares related to a 40,000,000 share repurchase authorization by the board of directors in 2015 and 40,000,000 shares related to a 40,000,000 share repurchase authorization by the board of directors announced in August 2017. (2)During the year ended December 31, 2017, 156,456 shares were purchased in connection with income tax withholding obligations related to the vesting of restricted-share-based awards during the period.   34     ITEM 6.     SELECTED FINANCIAL DATA  Aflac Incorporated and Subsidiaries Years Ended December 31,                                (In millions, except for share and per-share amounts)   2017       2016       2015       2014       2013     Revenues:                                         Net premiums, principally supplemental health insurance   $   18,531          $   19,225          $   17,570          $   19,072          $   20,135        Net investment income   3,220          3,278          3,135          3,319          3,293        Realized investment gains (losses)   (151   )       (14   )       106          282          426        Other income   67          70          61          55          85        Total revenues   21,667          22,559          20,872          22,728          23,939        Benefits and expenses:                                         Benefits and claims, net   12,181          12,919          11,746          12,937          13,813        Expenses   5,468          5,573          5,264          5,300          5,310        Total benefits and expenses   17,649          18,492          17,010          18,237          19,123        Pretax earnings   4,018          4,067          3,862          4,491          4,816        Income taxes   (586   )       1,408          1,329          1,540          1,658        Net earnings   $   4,604          $   2,659          $   2,533          $   2,951          $   3,158        Share and Per-Share Amounts                                         Net earnings (basic)   $   11.63          $   6.46          $   5.88          $   6.54          $   6.80        Net earnings (diluted)   11.54          6.42          5.85          6.50          6.76        Cash dividends paid   1.74          1.66          1.58          1.50          1.42        Cash dividends declared   1.74          1.66          1.58          1.50          1.42        Weighted-average common shares used for basic EPS (In thousands)   396,021          411,471       ',\n",
       "  \"  The Company repurchased 17.8 million shares of its common stock in the open market for $1.35 billion under the Company's share repurchase program in 2017, compared with the repurchase of 21.6 million shares for $1.4 billion in 2016.   CRITICAL ACCOUNTING ESTIMATES  The Company prepares its financial statements in accordance with U.S. generally accepted accounting principles (GAAP). These principles are established primarily by the Financial Accounting Standards Board (FASB). In this MD&A, references to U.S. GAAP issued by the FASB are derived from the FASB Accounting Standards CodificationTM (ASC). The preparation of financial statements in conformity with U.S. GAAP requires the Company to make estimates based on currently available information when recording transactions resulting from business operations. The estimates that the Company deems to be most critical to an understanding of Aflac's results of operations and financial condition are those related to the valuation of investments and derivatives, deferred policy acquisition costs (DAC), liabilities for future policy benefits and unpaid policy claims, and income taxes. The preparation and evaluation of these critical accounting estimates involve the use of various assumptions developed from management's analyses and judgments. The application of these critical accounting estimates determines the values at which 95% of the Company's assets and 81% of its liabilities are reported as of December 31, 2017, and thus has a direct effect on net earnings and shareholders' equity. Subsequent experience or use of other assumptions could produce significantly different results.\",\n",
       "  '       2.62   %       2.80   %     (1) Includes fixed maturities and perpetual securities, loan receivables, equities, and excludes alternative investments in limited partnerships (2) Reported on a gross yield basis; excludes investment expenses, external management fees, and amortized hedge costs (3) Net of investment expenses and amortized hedge costs, year-to-date number reflected on a quarterly average basis  On January 1, 2016, the company revised its definition of purchases to include the reinvestment of proceeds related to unplanned sale activity. New purchases include all purchases related to fixed maturities and perpetuals, loan receivables, and equities. Securities lending/repurchase agreement activity and capital contributions to alternatives are excluded. The definition of new money yield has also been revised to reflect this change. Yields for equities are based on the assumed dividend yield at the time of purchase.  The increase in the Aflac Japan new money yield in 2017 was primarily due to increases in yen interest rates during much of the investment period as well as increased allocations to higher yielding asset classes.',\n",
       "  \"  Off-Balance Sheet Arrangements  As of December 31, 2017, the Company had no material letters of credit, standby letters of credit, guarantees or standby repurchase obligations. See Note 15 of the Notes to the Consolidated Financial Statements for information on material unconditional purchase obligations that are not recorded on the Company's balance sheet.  CAPITAL RESOURCES AND LIQUIDITY Aflac provides the primary sources of liquidity to the Parent Company through dividends and management fees. The following table presents the amounts provided for the years ended December 31. Liquidity Provided by Aflac to Parent Company\",\n",
       "  \"                       (In millions)   2017       2016       2015         Dividends declared or paid by Aflac   $   2,590      (1)    $   2,000          $   2,393            Management fees paid by Aflac   291          260          255            (1) Includes securities of $622 at fair value which had a value of $656 at amortized cost  The primary uses of cash by the Parent Company are shareholder dividends, the repurchase of its common stock and interest on its outstanding indebtedness and operating expenses. The Parent Company's sources and uses of cash are reasonably predictable and are not expected to change materially in the future. For additional information, see the Financing Activities subsection of this MD&A.\",\n",
       "  \"  The Company's financial statements convey its financing arrangements during the periods presented. The Company has not engaged in material intra-period short-term financings during the periods presented that are not otherwise reported in its balance sheet or disclosed herein. The Company was in compliance with all of the covenants of its notes payable and lines of credit at December 31, 2017. The Company has not entered into transactions involving the transfer of financial assets with an obligation to repurchase financial assets that have been accounted for as a sale under applicable accounting standards, including securities lending transactions. See Notes 1, 3, and 4 of the Notes to the Consolidated Financial Statements for more information on the Company's securities lending and derivative activities. With the exception of disclosed activities in those referenced footnotes, the Company does not have a known trend, demand, commitment, event or uncertainty that would reasonably result in its liquidity increasing or decreasing by a material amount. The Company's cash and cash equivalents include unrestricted cash on hand, money market instruments, and other debt instruments with a maturity of 90 days or less when purchased, all of which has minimal market, settlement or other risk exposure.\",\n",
       "  \"   1,277          1,852          1,770             69     Under share repurchase authorizations from the Company's board of directors, the Company purchased 17.8 million shares of its common stock in the open market in 2017, compared with 21.6 million shares in 2016 and 21.2 million shares in 2015. In August 2017, Aflac's board of directors authorized the purchase of an additional 40 million shares of its common stock. As of December 31, 2017, a remaining balance of 49.0 million shares of the Company's common stock was available for purchase under share repurchase authorizations by its board of directors. The Company currently plans to purchase $1.1 billion to $1.4 billion of its common stock in 2018, assuming stable capital conditions and absent compelling alternatives. See Note 11 of the Notes to the Consolidated Financial Statements for additional information.  Cash dividends paid to shareholders in 2017 of $1.74 per share increased 4.8% over 2016. The 2016 dividend paid of $1.66 per share increased 5.1% over 2015. The following table presents the dividend activity for the years ended December 31.                       (In millions)   2017       2016       2015         Dividends paid in cash   $   661          $   658          $   656            Dividends through issuance of treasury shares   29          27          26            Total dividends to shareholders   $   690          $   685       \",\n",
       "  \"  Transfers and Servicing - Repurchase-to-Maturity Transactions, Repurchase Financings, and Disclosures: In June 2014, the FASB issued updated guidance for repurchase agreement and security lending transactions to change the accounting for repurchase-to-maturity transactions and linked repurchase financings to be accounted for as secured borrowings, consistent with the accounting for other repurchase agreements. The amendments also require new disclosures to increase transparency about the types of collateral pledged in repurchase agreements and similar transactions accounted for as secured borrowings. The Company adopted accounting changes for the new guidance as of January 1, 2015, and adopted the required disclosures as of April 1, 2015. The adoption of this guidance did not have a significant impact on the Company's financial position, results of operations, or disclosures.\",\n",
       "  \"       Up to 30 days           Total     Securities lending transactions:                             Public utilities   $   62          $   0              $   62        Banks/financial institutions   34          0              34        Other corporate   430          0              430                  Total borrowings   $   526          $   0              $   526        Gross amount of recognized liabilities for securities lending transactions       $   526        Amounts related to agreements not included in offsetting disclosure in Note 4       $   0        (1) These securities are pledged as collateral under the Company's U.S. securities lending program and can be called at its discretion; therefore, they are classified as Overnight and Continuous.  The Company did not have any repurchase agreements or repurchase-to-maturity transactions outstanding as of December 31, 2017 and 2016, respectively.  Certain fixed-maturity securities can be pledged as collateral as part of derivative transactions, or pledged to support state deposit requirements on certain investment programs. For additional information regarding pledged securities related to derivative transactions, see Note 4.  At December 31, 2017, debt securities with a fair value of $21 million were on deposit with regulatory authorities in the United States (including U.S. territories) and Japan. The Company retains ownership of all securities on deposit and receives the related investment income.\",\n",
       "  \"   398,930          413,921          433,172         Share Repurchase Program: During 2017, the Company repurchased 17.8 million shares of its common stock in the open market, compared with 21.6 million shares in 2016 and 21.2 million shares in 2015. In August 2017, the Company's board of directors authorized the purchase of an additional 40 million shares of its common stock. As of December 31, 2017, a remaining balance of 49.0 million shares of the Company's common stock was available for purchase under share repurchase authorizations by its board of directors.  Voting Rights: In accordance with the Parent Company's articles of incorporation, shares of common stock are generally entitled to one vote per share until they have been held by the same beneficial owner for a continuous period of 48 months, at which time they become entitled to 10 votes per share. Reclassifications from Accumulated Other Comprehensive Income The tables below are reconciliations of accumulated other comprehensive income by component for the years ended December 31.   154    Changes in Accumulated Other Comprehensive Income                                         2017     (In millions)   Unrealized Foreign Currency Translation Gains (Losses)       Unrealized Gains (Losses) on Investment Securities       Unrealized Gains (Losses) on Derivatives       Pension Liability Adjustment       Total     Balance, beginning of period       $   (1,983   )               $   4,805                  $   (24   )               $   (168   )               $   2,630            Other comprehensive income (loss) before reclassification       233\"]]"
      ]
     },
     "execution_count": 119,
     "metadata": {},
     "output_type": "execute_result"
    }
   ],
   "source": [
    "# create function to replace newlines for a paragraph\n",
    "def remove_newlines(ind1, ind2):\n",
    "    \"\"\"Remove newline characters with spaces from paragraph within list of lists\"\"\"\n",
    "    return(paragraphs_jc[ind1][ind2].replace(\"\\n\", \" \"))\n",
    "\n",
    "# get list of indicies for slicing through list of lists\n",
    "indicies = list()\n",
    "for d in range(len(paragraphs_jc)):\n",
    "    for p in range(len(paragraphs_jc[d])):\n",
    "        indicies.append([d, p])\n",
    "\n",
    "# I know there are 2 documents in the list you gave me so created just two destination lists for cleaned paragraphs\n",
    "# If want to scale maybe need to make this responsive to the number of documents scraped\n",
    "doc_1 = list()\n",
    "doc_2 = list()\n",
    "for l in indicies:\n",
    "    result = remove_newlines(l[0], l[1]) # run function to remove newlines, save to variable\n",
    "    # Depending on which document it came from save it to one of the two destination lists\n",
    "    if l[0] == 0:\n",
    "        doc_1.append(result)\n",
    "    else:\n",
    "        doc_2.append(result)\n",
    "        \n",
    "# Combine two destination lists into one big list to resemble original format\n",
    "no_newlines = [doc_1, doc_2]\n",
    "\n",
    "# Print result to make sure it worked\n",
    "no_newlines"
   ]
  },
  {
   "cell_type": "code",
   "execution_count": null,
   "metadata": {},
   "outputs": [],
   "source": []
  }
 ],
 "metadata": {
  "kernelspec": {
   "display_name": "Python 3",
   "language": "python",
   "name": "python3"
  },
  "language_info": {
   "codemirror_mode": {
    "name": "ipython",
    "version": 3
   },
   "file_extension": ".py",
   "mimetype": "text/x-python",
   "name": "python",
   "nbconvert_exporter": "python",
   "pygments_lexer": "ipython3",
   "version": "3.6.5"
  }
 },
 "nbformat": 4,
 "nbformat_minor": 2
}
